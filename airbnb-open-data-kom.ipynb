{
 "cells": [
  {
   "cell_type": "markdown",
   "id": "30e5cc06",
   "metadata": {
    "papermill": {
     "duration": 0.010933,
     "end_time": "2024-09-29T06:56:09.145138",
     "exception": false,
     "start_time": "2024-09-29T06:56:09.134205",
     "status": "completed"
    },
    "tags": []
   },
   "source": [
    "**Load Data**"
   ]
  },
  {
   "cell_type": "code",
   "execution_count": 1,
   "id": "dbc2a653",
   "metadata": {
    "_cell_guid": "b1076dfc-b9ad-4769-8c92-a6c4dae69d19",
    "_uuid": "8f2839f25d086af736a60e9eeb907d3b93b6e0e5",
    "execution": {
     "iopub.execute_input": "2024-09-29T06:56:09.168768Z",
     "iopub.status.busy": "2024-09-29T06:56:09.168176Z",
     "iopub.status.idle": "2024-09-29T06:56:10.199926Z",
     "shell.execute_reply": "2024-09-29T06:56:10.198390Z"
    },
    "papermill": {
     "duration": 1.047529,
     "end_time": "2024-09-29T06:56:10.203027",
     "exception": false,
     "start_time": "2024-09-29T06:56:09.155498",
     "status": "completed"
    },
    "tags": []
   },
   "outputs": [
    {
     "name": "stdout",
     "output_type": "stream",
     "text": [
      "/kaggle/input/airbnbopendata/Airbnb_Open_Data.csv\n"
     ]
    }
   ],
   "source": [
    "# This Python 3 environment comes with many helpful analytics libraries installed\n",
    "# It is defined by the kaggle/python Docker image: https://github.com/kaggle/docker-python\n",
    "# For example, here's several helpful packages to load\n",
    "\n",
    "import numpy as np # linear algebra\n",
    "import pandas as pd # data processing, CSV file I/O (e.g. pd.read_csv)\n",
    "\n",
    "# Input data files are available in the read-only \"../input/\" directory\n",
    "# For example, running this (by clicking run or pressing Shift+Enter) will list all files under the input directory\n",
    "\n",
    "import os\n",
    "for dirname, _, filenames in os.walk('/kaggle/input'):\n",
    "    for filename in filenames:\n",
    "        print(os.path.join(dirname, filename))\n",
    "\n",
    "# You can write up to 20GB to the current directory (/kaggle/working/) that gets preserved as output when you create a version using \"Save & Run All\" \n",
    "# You can also write temporary files to /kaggle/temp/, but they won't be saved outside of the current session"
   ]
  },
  {
   "cell_type": "code",
   "execution_count": 2,
   "id": "3d32b100",
   "metadata": {
    "execution": {
     "iopub.execute_input": "2024-09-29T06:56:10.228361Z",
     "iopub.status.busy": "2024-09-29T06:56:10.227753Z",
     "iopub.status.idle": "2024-09-29T06:56:11.740156Z",
     "shell.execute_reply": "2024-09-29T06:56:11.738886Z"
    },
    "papermill": {
     "duration": 1.527624,
     "end_time": "2024-09-29T06:56:11.743357",
     "exception": false,
     "start_time": "2024-09-29T06:56:10.215733",
     "status": "completed"
    },
    "tags": []
   },
   "outputs": [
    {
     "name": "stderr",
     "output_type": "stream",
     "text": [
      "/tmp/ipykernel_17/1083899366.py:2: DtypeWarning: Columns (25) have mixed types. Specify dtype option on import or set low_memory=False.\n",
      "  airbnb_data = pd.read_csv(\"/kaggle/input/airbnbopendata/Airbnb_Open_Data.csv\")\n"
     ]
    },
    {
     "data": {
      "text/html": [
       "<div>\n",
       "<style scoped>\n",
       "    .dataframe tbody tr th:only-of-type {\n",
       "        vertical-align: middle;\n",
       "    }\n",
       "\n",
       "    .dataframe tbody tr th {\n",
       "        vertical-align: top;\n",
       "    }\n",
       "\n",
       "    .dataframe thead th {\n",
       "        text-align: right;\n",
       "    }\n",
       "</style>\n",
       "<table border=\"1\" class=\"dataframe\">\n",
       "  <thead>\n",
       "    <tr style=\"text-align: right;\">\n",
       "      <th></th>\n",
       "      <th>id</th>\n",
       "      <th>NAME</th>\n",
       "      <th>host id</th>\n",
       "      <th>host_identity_verified</th>\n",
       "      <th>host name</th>\n",
       "      <th>neighbourhood group</th>\n",
       "      <th>neighbourhood</th>\n",
       "      <th>lat</th>\n",
       "      <th>long</th>\n",
       "      <th>country</th>\n",
       "      <th>...</th>\n",
       "      <th>service fee</th>\n",
       "      <th>minimum nights</th>\n",
       "      <th>number of reviews</th>\n",
       "      <th>last review</th>\n",
       "      <th>reviews per month</th>\n",
       "      <th>review rate number</th>\n",
       "      <th>calculated host listings count</th>\n",
       "      <th>availability 365</th>\n",
       "      <th>house_rules</th>\n",
       "      <th>license</th>\n",
       "    </tr>\n",
       "  </thead>\n",
       "  <tbody>\n",
       "    <tr>\n",
       "      <th>57975</th>\n",
       "      <td>33020929</td>\n",
       "      <td>Private Apt. in Brooklyn Brownstone + Garden</td>\n",
       "      <td>37054302200</td>\n",
       "      <td>verified</td>\n",
       "      <td>Nick</td>\n",
       "      <td>Brooklyn</td>\n",
       "      <td>Bedford-Stuyvesant</td>\n",
       "      <td>40.688835</td>\n",
       "      <td>-73.942787</td>\n",
       "      <td>United States</td>\n",
       "      <td>...</td>\n",
       "      <td>$221</td>\n",
       "      <td>2.0</td>\n",
       "      <td>167.0</td>\n",
       "      <td>1/5/2022</td>\n",
       "      <td>1.95</td>\n",
       "      <td>2.0</td>\n",
       "      <td>2.0</td>\n",
       "      <td>204.0</td>\n",
       "      <td>NaN</td>\n",
       "      <td>NaN</td>\n",
       "    </tr>\n",
       "    <tr>\n",
       "      <th>67684</th>\n",
       "      <td>38383209</td>\n",
       "      <td>Chinatown Super-host Quarters</td>\n",
       "      <td>38721650643</td>\n",
       "      <td>unconfirmed</td>\n",
       "      <td>Kevin</td>\n",
       "      <td>Manhattan</td>\n",
       "      <td>Two Bridges</td>\n",
       "      <td>40.712580</td>\n",
       "      <td>-73.994860</td>\n",
       "      <td>United States</td>\n",
       "      <td>...</td>\n",
       "      <td>$120</td>\n",
       "      <td>30.0</td>\n",
       "      <td>52.0</td>\n",
       "      <td>3/15/2020</td>\n",
       "      <td>1.01</td>\n",
       "      <td>3.0</td>\n",
       "      <td>1.0</td>\n",
       "      <td>0.0</td>\n",
       "      <td>NaN</td>\n",
       "      <td>NaN</td>\n",
       "    </tr>\n",
       "    <tr>\n",
       "      <th>61592</th>\n",
       "      <td>35018598</td>\n",
       "      <td>Fenix Living NoLiTa — Broome St Studio &amp; Garden</td>\n",
       "      <td>45778601452</td>\n",
       "      <td>verified</td>\n",
       "      <td>Fenix</td>\n",
       "      <td>Manhattan</td>\n",
       "      <td>Little Italy</td>\n",
       "      <td>40.720127</td>\n",
       "      <td>-73.996483</td>\n",
       "      <td>United States</td>\n",
       "      <td>...</td>\n",
       "      <td>$30</td>\n",
       "      <td>30.0</td>\n",
       "      <td>1.0</td>\n",
       "      <td>12/8/2021</td>\n",
       "      <td>0.34</td>\n",
       "      <td>5.0</td>\n",
       "      <td>6.0</td>\n",
       "      <td>137.0</td>\n",
       "      <td>NaN</td>\n",
       "      <td>NaN</td>\n",
       "    </tr>\n",
       "    <tr>\n",
       "      <th>86950</th>\n",
       "      <td>49023821</td>\n",
       "      <td>Private room in Bushwick, Brooklyn. backyard+r...</td>\n",
       "      <td>43064492374</td>\n",
       "      <td>unconfirmed</td>\n",
       "      <td>Cortland</td>\n",
       "      <td>Brooklyn</td>\n",
       "      <td>Bushwick</td>\n",
       "      <td>40.690920</td>\n",
       "      <td>-73.915460</td>\n",
       "      <td>United States</td>\n",
       "      <td>...</td>\n",
       "      <td>$140</td>\n",
       "      <td>1.0</td>\n",
       "      <td>1.0</td>\n",
       "      <td>7/5/2016</td>\n",
       "      <td>0.03</td>\n",
       "      <td>1.0</td>\n",
       "      <td>1.0</td>\n",
       "      <td>0.0</td>\n",
       "      <td>- - NO PETS!  NO SMOKING ON PREMISES! NO PARTY...</td>\n",
       "      <td>NaN</td>\n",
       "    </tr>\n",
       "    <tr>\n",
       "      <th>70823</th>\n",
       "      <td>40116879</td>\n",
       "      <td>As Seen In NY Magazine! Chic &amp; Stylish!</td>\n",
       "      <td>60021720817</td>\n",
       "      <td>unconfirmed</td>\n",
       "      <td>Brett</td>\n",
       "      <td>Queens</td>\n",
       "      <td>Sunnyside</td>\n",
       "      <td>40.743420</td>\n",
       "      <td>-73.926350</td>\n",
       "      <td>United States</td>\n",
       "      <td>...</td>\n",
       "      <td>$33</td>\n",
       "      <td>30.0</td>\n",
       "      <td>2.0</td>\n",
       "      <td>8/31/2018</td>\n",
       "      <td>0.06</td>\n",
       "      <td>5.0</td>\n",
       "      <td>1.0</td>\n",
       "      <td>250.0</td>\n",
       "      <td>NaN</td>\n",
       "      <td>NaN</td>\n",
       "    </tr>\n",
       "  </tbody>\n",
       "</table>\n",
       "<p>5 rows × 26 columns</p>\n",
       "</div>"
      ],
      "text/plain": [
       "             id                                               NAME  \\\n",
       "57975  33020929       Private Apt. in Brooklyn Brownstone + Garden   \n",
       "67684  38383209                      Chinatown Super-host Quarters   \n",
       "61592  35018598    Fenix Living NoLiTa — Broome St Studio & Garden   \n",
       "86950  49023821  Private room in Bushwick, Brooklyn. backyard+r...   \n",
       "70823  40116879            As Seen In NY Magazine! Chic & Stylish!   \n",
       "\n",
       "           host id host_identity_verified host name neighbourhood group  \\\n",
       "57975  37054302200               verified      Nick            Brooklyn   \n",
       "67684  38721650643            unconfirmed     Kevin           Manhattan   \n",
       "61592  45778601452               verified     Fenix           Manhattan   \n",
       "86950  43064492374            unconfirmed  Cortland            Brooklyn   \n",
       "70823  60021720817            unconfirmed     Brett              Queens   \n",
       "\n",
       "            neighbourhood        lat       long        country  ...  \\\n",
       "57975  Bedford-Stuyvesant  40.688835 -73.942787  United States  ...   \n",
       "67684         Two Bridges  40.712580 -73.994860  United States  ...   \n",
       "61592        Little Italy  40.720127 -73.996483  United States  ...   \n",
       "86950            Bushwick  40.690920 -73.915460  United States  ...   \n",
       "70823           Sunnyside  40.743420 -73.926350  United States  ...   \n",
       "\n",
       "      service fee minimum nights number of reviews last review  \\\n",
       "57975       $221             2.0             167.0    1/5/2022   \n",
       "67684       $120            30.0              52.0   3/15/2020   \n",
       "61592        $30            30.0               1.0   12/8/2021   \n",
       "86950       $140             1.0               1.0    7/5/2016   \n",
       "70823        $33            30.0               2.0   8/31/2018   \n",
       "\n",
       "       reviews per month review rate number calculated host listings count  \\\n",
       "57975               1.95                2.0                            2.0   \n",
       "67684               1.01                3.0                            1.0   \n",
       "61592               0.34                5.0                            6.0   \n",
       "86950               0.03                1.0                            1.0   \n",
       "70823               0.06                5.0                            1.0   \n",
       "\n",
       "       availability 365                                        house_rules  \\\n",
       "57975             204.0                                                NaN   \n",
       "67684               0.0                                                NaN   \n",
       "61592             137.0                                                NaN   \n",
       "86950               0.0  - - NO PETS!  NO SMOKING ON PREMISES! NO PARTY...   \n",
       "70823             250.0                                                NaN   \n",
       "\n",
       "      license  \n",
       "57975     NaN  \n",
       "67684     NaN  \n",
       "61592     NaN  \n",
       "86950     NaN  \n",
       "70823     NaN  \n",
       "\n",
       "[5 rows x 26 columns]"
      ]
     },
     "execution_count": 2,
     "metadata": {},
     "output_type": "execute_result"
    }
   ],
   "source": [
    "#Load data and get 5 samples\n",
    "airbnb_data = pd.read_csv(\"/kaggle/input/airbnbopendata/Airbnb_Open_Data.csv\")\n",
    "airbnb_data.sample(5)"
   ]
  },
  {
   "cell_type": "code",
   "execution_count": 3,
   "id": "612c50d4",
   "metadata": {
    "execution": {
     "iopub.execute_input": "2024-09-29T06:56:11.767454Z",
     "iopub.status.busy": "2024-09-29T06:56:11.766978Z",
     "iopub.status.idle": "2024-09-29T06:56:11.774826Z",
     "shell.execute_reply": "2024-09-29T06:56:11.773596Z"
    },
    "papermill": {
     "duration": 0.022909,
     "end_time": "2024-09-29T06:56:11.777289",
     "exception": false,
     "start_time": "2024-09-29T06:56:11.754380",
     "status": "completed"
    },
    "tags": []
   },
   "outputs": [
    {
     "data": {
      "text/plain": [
       "Index(['id', 'NAME', 'host id', 'host_identity_verified', 'host name',\n",
       "       'neighbourhood group', 'neighbourhood', 'lat', 'long', 'country',\n",
       "       'country code', 'instant_bookable', 'cancellation_policy', 'room type',\n",
       "       'Construction year', 'price', 'service fee', 'minimum nights',\n",
       "       'number of reviews', 'last review', 'reviews per month',\n",
       "       'review rate number', 'calculated host listings count',\n",
       "       'availability 365', 'house_rules', 'license'],\n",
       "      dtype='object')"
      ]
     },
     "execution_count": 3,
     "metadata": {},
     "output_type": "execute_result"
    }
   ],
   "source": [
    "#Check the columns\n",
    "airbnb_data.columns"
   ]
  },
  {
   "cell_type": "code",
   "execution_count": 4,
   "id": "8c304412",
   "metadata": {
    "execution": {
     "iopub.execute_input": "2024-09-29T06:56:11.802771Z",
     "iopub.status.busy": "2024-09-29T06:56:11.802304Z",
     "iopub.status.idle": "2024-09-29T06:56:11.982100Z",
     "shell.execute_reply": "2024-09-29T06:56:11.980900Z"
    },
    "papermill": {
     "duration": 0.196914,
     "end_time": "2024-09-29T06:56:11.985592",
     "exception": false,
     "start_time": "2024-09-29T06:56:11.788678",
     "status": "completed"
    },
    "tags": []
   },
   "outputs": [
    {
     "name": "stdout",
     "output_type": "stream",
     "text": [
      "<class 'pandas.core.frame.DataFrame'>\n",
      "RangeIndex: 102599 entries, 0 to 102598\n",
      "Data columns (total 26 columns):\n",
      " #   Column                          Non-Null Count   Dtype  \n",
      "---  ------                          --------------   -----  \n",
      " 0   id                              102599 non-null  int64  \n",
      " 1   NAME                            102349 non-null  object \n",
      " 2   host id                         102599 non-null  int64  \n",
      " 3   host_identity_verified          102310 non-null  object \n",
      " 4   host name                       102193 non-null  object \n",
      " 5   neighbourhood group             102570 non-null  object \n",
      " 6   neighbourhood                   102583 non-null  object \n",
      " 7   lat                             102591 non-null  float64\n",
      " 8   long                            102591 non-null  float64\n",
      " 9   country                         102067 non-null  object \n",
      " 10  country code                    102468 non-null  object \n",
      " 11  instant_bookable                102494 non-null  object \n",
      " 12  cancellation_policy             102523 non-null  object \n",
      " 13  room type                       102599 non-null  object \n",
      " 14  Construction year               102385 non-null  float64\n",
      " 15  price                           102352 non-null  object \n",
      " 16  service fee                     102326 non-null  object \n",
      " 17  minimum nights                  102190 non-null  float64\n",
      " 18  number of reviews               102416 non-null  float64\n",
      " 19  last review                     86706 non-null   object \n",
      " 20  reviews per month               86720 non-null   float64\n",
      " 21  review rate number              102273 non-null  float64\n",
      " 22  calculated host listings count  102280 non-null  float64\n",
      " 23  availability 365                102151 non-null  float64\n",
      " 24  house_rules                     50468 non-null   object \n",
      " 25  license                         2 non-null       object \n",
      "dtypes: float64(9), int64(2), object(15)\n",
      "memory usage: 20.4+ MB\n"
     ]
    }
   ],
   "source": [
    "#Check its infos\n",
    "airbnb_data.info()"
   ]
  },
  {
   "cell_type": "code",
   "execution_count": 5,
   "id": "1847d3ad",
   "metadata": {
    "execution": {
     "iopub.execute_input": "2024-09-29T06:56:12.010143Z",
     "iopub.status.busy": "2024-09-29T06:56:12.009705Z",
     "iopub.status.idle": "2024-09-29T06:56:12.110955Z",
     "shell.execute_reply": "2024-09-29T06:56:12.109390Z"
    },
    "papermill": {
     "duration": 0.116827,
     "end_time": "2024-09-29T06:56:12.113743",
     "exception": false,
     "start_time": "2024-09-29T06:56:11.996916",
     "status": "completed"
    },
    "tags": []
   },
   "outputs": [
    {
     "data": {
      "text/html": [
       "<div>\n",
       "<style scoped>\n",
       "    .dataframe tbody tr th:only-of-type {\n",
       "        vertical-align: middle;\n",
       "    }\n",
       "\n",
       "    .dataframe tbody tr th {\n",
       "        vertical-align: top;\n",
       "    }\n",
       "\n",
       "    .dataframe thead th {\n",
       "        text-align: right;\n",
       "    }\n",
       "</style>\n",
       "<table border=\"1\" class=\"dataframe\">\n",
       "  <thead>\n",
       "    <tr style=\"text-align: right;\">\n",
       "      <th></th>\n",
       "      <th>id</th>\n",
       "      <th>host id</th>\n",
       "      <th>lat</th>\n",
       "      <th>long</th>\n",
       "      <th>Construction year</th>\n",
       "      <th>minimum nights</th>\n",
       "      <th>number of reviews</th>\n",
       "      <th>reviews per month</th>\n",
       "      <th>review rate number</th>\n",
       "      <th>calculated host listings count</th>\n",
       "      <th>availability 365</th>\n",
       "    </tr>\n",
       "  </thead>\n",
       "  <tbody>\n",
       "    <tr>\n",
       "      <th>count</th>\n",
       "      <td>1.025990e+05</td>\n",
       "      <td>1.025990e+05</td>\n",
       "      <td>102591.000000</td>\n",
       "      <td>102591.000000</td>\n",
       "      <td>102385.000000</td>\n",
       "      <td>102190.000000</td>\n",
       "      <td>102416.000000</td>\n",
       "      <td>86720.000000</td>\n",
       "      <td>102273.000000</td>\n",
       "      <td>102280.000000</td>\n",
       "      <td>102151.000000</td>\n",
       "    </tr>\n",
       "    <tr>\n",
       "      <th>mean</th>\n",
       "      <td>2.914623e+07</td>\n",
       "      <td>4.925411e+10</td>\n",
       "      <td>40.728094</td>\n",
       "      <td>-73.949644</td>\n",
       "      <td>2012.487464</td>\n",
       "      <td>8.135845</td>\n",
       "      <td>27.483743</td>\n",
       "      <td>1.374022</td>\n",
       "      <td>3.279106</td>\n",
       "      <td>7.936605</td>\n",
       "      <td>141.133254</td>\n",
       "    </tr>\n",
       "    <tr>\n",
       "      <th>std</th>\n",
       "      <td>1.625751e+07</td>\n",
       "      <td>2.853900e+10</td>\n",
       "      <td>0.055857</td>\n",
       "      <td>0.049521</td>\n",
       "      <td>5.765556</td>\n",
       "      <td>30.553781</td>\n",
       "      <td>49.508954</td>\n",
       "      <td>1.746621</td>\n",
       "      <td>1.284657</td>\n",
       "      <td>32.218780</td>\n",
       "      <td>135.435024</td>\n",
       "    </tr>\n",
       "    <tr>\n",
       "      <th>min</th>\n",
       "      <td>1.001254e+06</td>\n",
       "      <td>1.236005e+08</td>\n",
       "      <td>40.499790</td>\n",
       "      <td>-74.249840</td>\n",
       "      <td>2003.000000</td>\n",
       "      <td>-1223.000000</td>\n",
       "      <td>0.000000</td>\n",
       "      <td>0.010000</td>\n",
       "      <td>1.000000</td>\n",
       "      <td>1.000000</td>\n",
       "      <td>-10.000000</td>\n",
       "    </tr>\n",
       "    <tr>\n",
       "      <th>25%</th>\n",
       "      <td>1.508581e+07</td>\n",
       "      <td>2.458333e+10</td>\n",
       "      <td>40.688740</td>\n",
       "      <td>-73.982580</td>\n",
       "      <td>2007.000000</td>\n",
       "      <td>2.000000</td>\n",
       "      <td>1.000000</td>\n",
       "      <td>0.220000</td>\n",
       "      <td>2.000000</td>\n",
       "      <td>1.000000</td>\n",
       "      <td>3.000000</td>\n",
       "    </tr>\n",
       "    <tr>\n",
       "      <th>50%</th>\n",
       "      <td>2.913660e+07</td>\n",
       "      <td>4.911774e+10</td>\n",
       "      <td>40.722290</td>\n",
       "      <td>-73.954440</td>\n",
       "      <td>2012.000000</td>\n",
       "      <td>3.000000</td>\n",
       "      <td>7.000000</td>\n",
       "      <td>0.740000</td>\n",
       "      <td>3.000000</td>\n",
       "      <td>1.000000</td>\n",
       "      <td>96.000000</td>\n",
       "    </tr>\n",
       "    <tr>\n",
       "      <th>75%</th>\n",
       "      <td>4.320120e+07</td>\n",
       "      <td>7.399650e+10</td>\n",
       "      <td>40.762760</td>\n",
       "      <td>-73.932350</td>\n",
       "      <td>2017.000000</td>\n",
       "      <td>5.000000</td>\n",
       "      <td>30.000000</td>\n",
       "      <td>2.000000</td>\n",
       "      <td>4.000000</td>\n",
       "      <td>2.000000</td>\n",
       "      <td>269.000000</td>\n",
       "    </tr>\n",
       "    <tr>\n",
       "      <th>max</th>\n",
       "      <td>5.736742e+07</td>\n",
       "      <td>9.876313e+10</td>\n",
       "      <td>40.916970</td>\n",
       "      <td>-73.705220</td>\n",
       "      <td>2022.000000</td>\n",
       "      <td>5645.000000</td>\n",
       "      <td>1024.000000</td>\n",
       "      <td>90.000000</td>\n",
       "      <td>5.000000</td>\n",
       "      <td>332.000000</td>\n",
       "      <td>3677.000000</td>\n",
       "    </tr>\n",
       "  </tbody>\n",
       "</table>\n",
       "</div>"
      ],
      "text/plain": [
       "                 id       host id            lat           long  \\\n",
       "count  1.025990e+05  1.025990e+05  102591.000000  102591.000000   \n",
       "mean   2.914623e+07  4.925411e+10      40.728094     -73.949644   \n",
       "std    1.625751e+07  2.853900e+10       0.055857       0.049521   \n",
       "min    1.001254e+06  1.236005e+08      40.499790     -74.249840   \n",
       "25%    1.508581e+07  2.458333e+10      40.688740     -73.982580   \n",
       "50%    2.913660e+07  4.911774e+10      40.722290     -73.954440   \n",
       "75%    4.320120e+07  7.399650e+10      40.762760     -73.932350   \n",
       "max    5.736742e+07  9.876313e+10      40.916970     -73.705220   \n",
       "\n",
       "       Construction year  minimum nights  number of reviews  \\\n",
       "count      102385.000000   102190.000000      102416.000000   \n",
       "mean         2012.487464        8.135845          27.483743   \n",
       "std             5.765556       30.553781          49.508954   \n",
       "min          2003.000000    -1223.000000           0.000000   \n",
       "25%          2007.000000        2.000000           1.000000   \n",
       "50%          2012.000000        3.000000           7.000000   \n",
       "75%          2017.000000        5.000000          30.000000   \n",
       "max          2022.000000     5645.000000        1024.000000   \n",
       "\n",
       "       reviews per month  review rate number  calculated host listings count  \\\n",
       "count       86720.000000       102273.000000                   102280.000000   \n",
       "mean            1.374022            3.279106                        7.936605   \n",
       "std             1.746621            1.284657                       32.218780   \n",
       "min             0.010000            1.000000                        1.000000   \n",
       "25%             0.220000            2.000000                        1.000000   \n",
       "50%             0.740000            3.000000                        1.000000   \n",
       "75%             2.000000            4.000000                        2.000000   \n",
       "max            90.000000            5.000000                      332.000000   \n",
       "\n",
       "       availability 365  \n",
       "count     102151.000000  \n",
       "mean         141.133254  \n",
       "std          135.435024  \n",
       "min          -10.000000  \n",
       "25%            3.000000  \n",
       "50%           96.000000  \n",
       "75%          269.000000  \n",
       "max         3677.000000  "
      ]
     },
     "execution_count": 5,
     "metadata": {},
     "output_type": "execute_result"
    }
   ],
   "source": [
    "#Get its statistical datas\n",
    "airbnb_data.describe()"
   ]
  },
  {
   "cell_type": "markdown",
   "id": "4ae3b1ce",
   "metadata": {
    "papermill": {
     "duration": 0.011539,
     "end_time": "2024-09-29T06:56:12.137093",
     "exception": false,
     "start_time": "2024-09-29T06:56:12.125554",
     "status": "completed"
    },
    "tags": []
   },
   "source": [
    "**Clean Data**"
   ]
  },
  {
   "cell_type": "code",
   "execution_count": 6,
   "id": "8e14b162",
   "metadata": {
    "execution": {
     "iopub.execute_input": "2024-09-29T06:56:12.162648Z",
     "iopub.status.busy": "2024-09-29T06:56:12.162224Z",
     "iopub.status.idle": "2024-09-29T06:56:12.544910Z",
     "shell.execute_reply": "2024-09-29T06:56:12.543758Z"
    },
    "papermill": {
     "duration": 0.399087,
     "end_time": "2024-09-29T06:56:12.548066",
     "exception": false,
     "start_time": "2024-09-29T06:56:12.148979",
     "status": "completed"
    },
    "tags": []
   },
   "outputs": [
    {
     "data": {
      "text/plain": [
       "541"
      ]
     },
     "execution_count": 6,
     "metadata": {},
     "output_type": "execute_result"
    }
   ],
   "source": [
    "#Check for duplicates\n",
    "airbnb_data.duplicated().sum()"
   ]
  },
  {
   "cell_type": "code",
   "execution_count": 7,
   "id": "21aed3d8",
   "metadata": {
    "execution": {
     "iopub.execute_input": "2024-09-29T06:56:12.574420Z",
     "iopub.status.busy": "2024-09-29T06:56:12.573978Z",
     "iopub.status.idle": "2024-09-29T06:56:13.308382Z",
     "shell.execute_reply": "2024-09-29T06:56:13.307131Z"
    },
    "papermill": {
     "duration": 0.751303,
     "end_time": "2024-09-29T06:56:13.311311",
     "exception": false,
     "start_time": "2024-09-29T06:56:12.560008",
     "status": "completed"
    },
    "tags": []
   },
   "outputs": [
    {
     "data": {
      "text/plain": [
       "0"
      ]
     },
     "execution_count": 7,
     "metadata": {},
     "output_type": "execute_result"
    }
   ],
   "source": [
    "#Remove duplicates\n",
    "airbnb_data.drop_duplicates(inplace = True)\n",
    "airbnb_data.duplicated().sum()"
   ]
  },
  {
   "cell_type": "code",
   "execution_count": 8,
   "id": "83f2d656",
   "metadata": {
    "execution": {
     "iopub.execute_input": "2024-09-29T06:56:13.338997Z",
     "iopub.status.busy": "2024-09-29T06:56:13.338568Z",
     "iopub.status.idle": "2024-09-29T06:56:13.503580Z",
     "shell.execute_reply": "2024-09-29T06:56:13.502385Z"
    },
    "papermill": {
     "duration": 0.183055,
     "end_time": "2024-09-29T06:56:13.506729",
     "exception": false,
     "start_time": "2024-09-29T06:56:13.323674",
     "status": "completed"
    },
    "tags": []
   },
   "outputs": [
    {
     "data": {
      "text/plain": [
       "id                                     0\n",
       "NAME                                 250\n",
       "host id                                0\n",
       "host_identity_verified               289\n",
       "host name                            404\n",
       "neighbourhood group                   29\n",
       "neighbourhood                         16\n",
       "lat                                    8\n",
       "long                                   8\n",
       "country                              532\n",
       "country code                         131\n",
       "instant_bookable                     105\n",
       "cancellation_policy                   76\n",
       "room type                              0\n",
       "Construction year                    214\n",
       "price                                247\n",
       "service fee                          273\n",
       "minimum nights                       400\n",
       "number of reviews                    183\n",
       "last review                        15832\n",
       "reviews per month                  15818\n",
       "review rate number                   319\n",
       "calculated host listings count       319\n",
       "availability 365                     448\n",
       "house_rules                        51842\n",
       "license                           102056\n",
       "dtype: int64"
      ]
     },
     "execution_count": 8,
     "metadata": {},
     "output_type": "execute_result"
    }
   ],
   "source": [
    "#Check for null values\n",
    "airbnb_data.isna().sum()"
   ]
  },
  {
   "cell_type": "code",
   "execution_count": 9,
   "id": "50ecd0ce",
   "metadata": {
    "execution": {
     "iopub.execute_input": "2024-09-29T06:56:13.533378Z",
     "iopub.status.busy": "2024-09-29T06:56:13.532829Z",
     "iopub.status.idle": "2024-09-29T06:56:13.655068Z",
     "shell.execute_reply": "2024-09-29T06:56:13.653798Z"
    },
    "papermill": {
     "duration": 0.138853,
     "end_time": "2024-09-29T06:56:13.657975",
     "exception": false,
     "start_time": "2024-09-29T06:56:13.519122",
     "status": "completed"
    },
    "tags": []
   },
   "outputs": [
    {
     "name": "stdout",
     "output_type": "stream",
     "text": [
      "<class 'pandas.core.frame.DataFrame'>\n",
      "Index: 102058 entries, 0 to 102057\n",
      "Data columns (total 18 columns):\n",
      " #   Column                          Non-Null Count   Dtype  \n",
      "---  ------                          --------------   -----  \n",
      " 0   id                              102058 non-null  int64  \n",
      " 1   host id                         102058 non-null  int64  \n",
      " 2   host_identity_verified          101769 non-null  object \n",
      " 3   neighbourhood group             102029 non-null  object \n",
      " 4   neighbourhood                   102042 non-null  object \n",
      " 5   lat                             102050 non-null  float64\n",
      " 6   long                            102050 non-null  float64\n",
      " 7   instant_bookable                101953 non-null  object \n",
      " 8   cancellation_policy             101982 non-null  object \n",
      " 9   room type                       102058 non-null  object \n",
      " 10  Construction year               101844 non-null  float64\n",
      " 11  price                           101811 non-null  object \n",
      " 12  service fee                     101785 non-null  object \n",
      " 13  minimum nights                  101658 non-null  float64\n",
      " 14  reviews per month               86240 non-null   float64\n",
      " 15  review rate number              101739 non-null  float64\n",
      " 16  calculated host listings count  101739 non-null  float64\n",
      " 17  availability 365                101610 non-null  float64\n",
      "dtypes: float64(8), int64(2), object(8)\n",
      "memory usage: 14.8+ MB\n"
     ]
    }
   ],
   "source": [
    "#Drop unnecessary columns, if they exist\n",
    "columns_to_drop = ['host name', 'country', 'house_rules', 'last review', 'country code', 'NAME', 'number of reviews', 'license']\n",
    "airbnb_data = airbnb_data.drop(columns=[col for col in columns_to_drop if col in airbnb_data.columns], errors='ignore')\n",
    "airbnb_data.info()"
   ]
  },
  {
   "cell_type": "code",
   "execution_count": 10,
   "id": "4325bb6f",
   "metadata": {
    "execution": {
     "iopub.execute_input": "2024-09-29T06:56:13.685596Z",
     "iopub.status.busy": "2024-09-29T06:56:13.684432Z",
     "iopub.status.idle": "2024-09-29T06:56:13.798362Z",
     "shell.execute_reply": "2024-09-29T06:56:13.797118Z"
    },
    "papermill": {
     "duration": 0.130551,
     "end_time": "2024-09-29T06:56:13.801208",
     "exception": false,
     "start_time": "2024-09-29T06:56:13.670657",
     "status": "completed"
    },
    "tags": []
   },
   "outputs": [
    {
     "name": "stdout",
     "output_type": "stream",
     "text": [
      "<class 'pandas.core.frame.DataFrame'>\n",
      "Index: 102058 entries, 0 to 102057\n",
      "Data columns (total 18 columns):\n",
      " #   Column                  Non-Null Count   Dtype  \n",
      "---  ------                  --------------   -----  \n",
      " 0   id                      102058 non-null  int64  \n",
      " 1   Host Identity           102058 non-null  int64  \n",
      " 2   Host Identity Status    101769 non-null  object \n",
      " 3   neighbourhood group     102029 non-null  object \n",
      " 4   neighbourhood           102042 non-null  object \n",
      " 5   lat coordinate          102050 non-null  float64\n",
      " 6   long coordinate         102050 non-null  float64\n",
      " 7   Immediate Booking       101953 non-null  object \n",
      " 8   cancellation_policy     101982 non-null  object \n",
      " 9   room category           102058 non-null  object \n",
      " 10  Year of Construction    101844 non-null  float64\n",
      " 11  price                   101811 non-null  object \n",
      " 12  service fee             101785 non-null  object \n",
      " 13  required nights         101658 non-null  float64\n",
      " 14  reviews per month       86240 non-null   float64\n",
      " 15  review rate number      101739 non-null  float64\n",
      " 16  Host listings count     101739 non-null  float64\n",
      " 17  Full-year availability  101610 non-null  float64\n",
      "dtypes: float64(8), int64(2), object(8)\n",
      "memory usage: 14.8+ MB\n"
     ]
    }
   ],
   "source": [
    "#Rename columns for better understanding\n",
    "airbnb_data = airbnb_data.rename(columns={\n",
    "    'host id': 'Host Identity',\n",
    "    'host_identity_verified': 'Host Identity Status',\n",
    "    'lat': 'lat coordinate',\n",
    "    'long': 'long coordinate',\n",
    "    'instant_bookable': 'Immediate Booking',\n",
    "    'room type': 'room category',\n",
    "    'Construction year': 'Year of Construction',\n",
    "    'minimum nights': 'required nights',\n",
    "    'calculated host listings count': 'Host listings count',\n",
    "    'availability 365': 'Full-year availability'\n",
    "})\n",
    "airbnb_data.info()"
   ]
  },
  {
   "cell_type": "code",
   "execution_count": 11,
   "id": "7e4f2251",
   "metadata": {
    "execution": {
     "iopub.execute_input": "2024-09-29T06:56:13.828594Z",
     "iopub.status.busy": "2024-09-29T06:56:13.828097Z",
     "iopub.status.idle": "2024-09-29T06:56:13.870503Z",
     "shell.execute_reply": "2024-09-29T06:56:13.869302Z"
    },
    "papermill": {
     "duration": 0.059198,
     "end_time": "2024-09-29T06:56:13.873366",
     "exception": false,
     "start_time": "2024-09-29T06:56:13.814168",
     "status": "completed"
    },
    "tags": []
   },
   "outputs": [
    {
     "data": {
      "text/plain": [
       "array(['unconfirmed', 'verified'], dtype=object)"
      ]
     },
     "execution_count": 11,
     "metadata": {},
     "output_type": "execute_result"
    }
   ],
   "source": [
    "airbnb_data['Host Identity Status'].unique()\n",
    "airbnb_data['Host Identity Status'] = airbnb_data['Host Identity Status'].fillna('unconfirmed')\n",
    "airbnb_data['Host Identity Status'].unique()"
   ]
  },
  {
   "cell_type": "code",
   "execution_count": 12,
   "id": "99f7e94f",
   "metadata": {
    "execution": {
     "iopub.execute_input": "2024-09-29T06:56:13.901928Z",
     "iopub.status.busy": "2024-09-29T06:56:13.901444Z",
     "iopub.status.idle": "2024-09-29T06:56:14.007470Z",
     "shell.execute_reply": "2024-09-29T06:56:14.006044Z"
    },
    "papermill": {
     "duration": 0.123451,
     "end_time": "2024-09-29T06:56:14.010077",
     "exception": false,
     "start_time": "2024-09-29T06:56:13.886626",
     "status": "completed"
    },
    "tags": []
   },
   "outputs": [
    {
     "data": {
      "text/plain": [
       "array(['Brooklyn', 'Manhattan', 'Queens', 'Staten Island', 'Bronx'],\n",
       "      dtype=object)"
      ]
     },
     "execution_count": 12,
     "metadata": {},
     "output_type": "execute_result"
    }
   ],
   "source": [
    "#\n",
    "\n",
    "airbnb_data = airbnb_data.dropna(subset=['neighbourhood group','neighbourhood'])\n",
    "airbnb_data['neighbourhood group'].unique()\n",
    "airbnb_data['neighbourhood group'] = airbnb_data['neighbourhood group'].replace({\n",
    "    'brookln': 'Brooklyn',     # Correct 'brookln' to 'Brooklyn'\n",
    "    'manhatan': 'Manhattan'    # Correct 'manhatan' to 'Manhattan'\n",
    "})\n",
    "airbnb_data['neighbourhood group'].unique()"
   ]
  },
  {
   "cell_type": "code",
   "execution_count": 13,
   "id": "b4d72405",
   "metadata": {
    "execution": {
     "iopub.execute_input": "2024-09-29T06:56:14.037499Z",
     "iopub.status.busy": "2024-09-29T06:56:14.037069Z",
     "iopub.status.idle": "2024-09-29T06:56:14.056332Z",
     "shell.execute_reply": "2024-09-29T06:56:14.055116Z"
    },
    "papermill": {
     "duration": 0.03657,
     "end_time": "2024-09-29T06:56:14.059490",
     "exception": false,
     "start_time": "2024-09-29T06:56:14.022920",
     "status": "completed"
    },
    "tags": []
   },
   "outputs": [
    {
     "data": {
      "text/plain": [
       "array(['Kensington', 'Midtown', 'Harlem', 'Clinton Hill', 'East Harlem',\n",
       "       'Murray Hill', 'Bedford-Stuyvesant', \"Hell's Kitchen\",\n",
       "       'Upper West Side', 'Chinatown', 'South Slope', 'West Village',\n",
       "       'Williamsburg', 'Fort Greene', 'Chelsea', 'Crown Heights',\n",
       "       'Park Slope', 'Windsor Terrace', 'Inwood', 'East Village',\n",
       "       'Greenpoint', 'Bushwick', 'Flatbush', 'Lower East Side',\n",
       "       'Prospect-Lefferts Gardens', 'Long Island City', 'Kips Bay',\n",
       "       'SoHo', 'Upper East Side', 'Prospect Heights', 'Brooklyn Heights',\n",
       "       'Carroll Gardens', 'Washington Heights', 'Gowanus', 'Flatlands',\n",
       "       'Cobble Hill', 'Flushing', 'Boerum Hill', 'Sunnyside', 'DUMBO',\n",
       "       'St. George', 'Highbridge', 'Financial District', 'Ridgewood',\n",
       "       'Morningside Heights', 'Jamaica', 'Middle Village', 'NoHo',\n",
       "       'Ditmars Steinway', 'Flatiron District', 'Roosevelt Island',\n",
       "       'Greenwich Village', 'Little Italy', 'East Flatbush',\n",
       "       'Tompkinsville', 'Astoria', 'Clason Point', 'Kingsbridge',\n",
       "       'Two Bridges', 'Rockaway Beach', 'Forest Hills', 'Nolita',\n",
       "       'Woodlawn', 'University Heights', 'Gravesend', 'Gramercy',\n",
       "       'Allerton', 'East New York', 'Theater District',\n",
       "       'Concourse Village', 'Sheepshead Bay', 'Emerson Hill',\n",
       "       'Fort Hamilton', 'Bensonhurst', 'Tribeca', 'Shore Acres',\n",
       "       'Sunset Park', 'Concourse', 'Elmhurst', 'Brighton Beach',\n",
       "       'Jackson Heights', 'Cypress Hills', 'St. Albans', 'Arrochar',\n",
       "       'Rego Park', 'Wakefield', 'Woodside', 'Clifton', 'Bay Ridge',\n",
       "       'Graniteville', 'Spuyten Duyvil', 'Stapleton', 'Briarwood',\n",
       "       'Ozone Park', 'Columbia St', 'Vinegar Hill', 'Mott Haven',\n",
       "       'Longwood', 'Canarsie', 'Battery Park City', 'Civic Center',\n",
       "       'East Elmhurst', 'New Springville', 'Morris Heights', 'Arverne',\n",
       "       'Cambria Heights', 'Tottenville', 'Mariners Harbor', 'Concord',\n",
       "       'Borough Park', 'Bayside', 'Downtown Brooklyn', 'Port Morris',\n",
       "       'Fieldston', 'Kew Gardens', 'Midwood', 'College Point',\n",
       "       'Mount Eden', 'City Island', 'Glendale', 'Port Richmond',\n",
       "       'Red Hook', 'Richmond Hill', 'Queens Village', 'Bellerose',\n",
       "       'Maspeth', 'Williamsbridge', 'Soundview', 'Woodhaven', 'Woodrow',\n",
       "       'Co-op City', 'Stuyvesant Town', 'Parkchester', 'North Riverdale',\n",
       "       'Dyker Heights', 'Bronxdale', 'Sea Gate', 'Riverdale',\n",
       "       'Kew Gardens Hills', 'Bay Terrace', 'Norwood', 'Claremont Village',\n",
       "       'Whitestone', 'Fordham', 'Bayswater', 'Navy Yard', 'Brownsville',\n",
       "       'Eltingville', 'Fresh Meadows', 'Mount Hope', 'Lighthouse Hill',\n",
       "       'Springfield Gardens', 'Eastchester', 'Howard Beach',\n",
       "       'Belle Harbor', 'Jamaica Estates', 'Van Nest', 'Morris Park',\n",
       "       'West Brighton', 'Far Rockaway', 'South Ozone Park', 'Tremont',\n",
       "       'Corona', 'Great Kills', 'Manhattan Beach', 'Marble Hill',\n",
       "       'Dongan Hills', 'Castleton Corners', 'East Morrisania',\n",
       "       'Hunts Point', 'Neponsit', 'Pelham Bay', 'Randall Manor',\n",
       "       'Throgs Neck', 'Todt Hill', 'West Farms', 'Silver Lake',\n",
       "       'Morrisania', 'Laurelton', 'Grymes Hill', 'Holliswood',\n",
       "       'Pelham Gardens', 'Belmont', 'Rosedale', 'Edgemere',\n",
       "       'New Brighton', 'Midland Beach', 'Baychester', 'Melrose',\n",
       "       'Bergen Beach', 'Richmondtown', 'Howland Hook', 'Schuylerville',\n",
       "       'Coney Island', 'New Dorp Beach', \"Prince's Bay\", 'South Beach',\n",
       "       'Bath Beach', 'Jamaica Hills', 'Oakwood', 'Castle Hill', 'Hollis',\n",
       "       'Douglaston', 'Huguenot', 'Olinville', 'Edenwald', 'Grant City',\n",
       "       'Westerleigh', 'Bay Terrace, Staten Island', 'Westchester Square',\n",
       "       'Little Neck', 'Fort Wadsworth', 'Rosebank', 'Unionport',\n",
       "       'Mill Basin', 'Arden Heights', \"Bull's Head\", 'New Dorp',\n",
       "       'Rossville', 'Breezy Point', 'Willowbrook', 'Glen Oaks',\n",
       "       'Gerritsen Beach', 'Chelsea, Staten Island'], dtype=object)"
      ]
     },
     "execution_count": 13,
     "metadata": {},
     "output_type": "execute_result"
    }
   ],
   "source": [
    "airbnb_data['neighbourhood'].unique()"
   ]
  },
  {
   "cell_type": "code",
   "execution_count": 14,
   "id": "8600e475",
   "metadata": {
    "execution": {
     "iopub.execute_input": "2024-09-29T06:56:14.088563Z",
     "iopub.status.busy": "2024-09-29T06:56:14.088084Z",
     "iopub.status.idle": "2024-09-29T06:56:14.128999Z",
     "shell.execute_reply": "2024-09-29T06:56:14.127594Z"
    },
    "papermill": {
     "duration": 0.05865,
     "end_time": "2024-09-29T06:56:14.132113",
     "exception": false,
     "start_time": "2024-09-29T06:56:14.073463",
     "status": "completed"
    },
    "tags": []
   },
   "outputs": [
    {
     "name": "stderr",
     "output_type": "stream",
     "text": [
      "/tmp/ipykernel_17/1869171798.py:2: FutureWarning: Downcasting object dtype arrays on .fillna, .ffill, .bfill is deprecated and will change in a future version. Call result.infer_objects(copy=False) instead. To opt-in to the future behavior, set `pd.set_option('future.no_silent_downcasting', True)`\n",
      "  airbnb_data['Immediate Booking'] = airbnb_data['Immediate Booking'].fillna(False)\n"
     ]
    },
    {
     "data": {
      "text/plain": [
       "array([False,  True])"
      ]
     },
     "execution_count": 14,
     "metadata": {},
     "output_type": "execute_result"
    }
   ],
   "source": [
    "airbnb_data['Immediate Booking'].unique()\n",
    "airbnb_data['Immediate Booking'] = airbnb_data['Immediate Booking'].fillna(False)\n",
    "airbnb_data['Immediate Booking'].unique()"
   ]
  },
  {
   "cell_type": "code",
   "execution_count": 15,
   "id": "01855f49",
   "metadata": {
    "execution": {
     "iopub.execute_input": "2024-09-29T06:56:14.162101Z",
     "iopub.status.busy": "2024-09-29T06:56:14.161652Z",
     "iopub.status.idle": "2024-09-29T06:56:14.204258Z",
     "shell.execute_reply": "2024-09-29T06:56:14.202851Z"
    },
    "papermill": {
     "duration": 0.061431,
     "end_time": "2024-09-29T06:56:14.207047",
     "exception": false,
     "start_time": "2024-09-29T06:56:14.145616",
     "status": "completed"
    },
    "tags": []
   },
   "outputs": [
    {
     "data": {
      "text/plain": [
       "array(['strict', 'moderate', 'flexible', 'undefined'], dtype=object)"
      ]
     },
     "execution_count": 15,
     "metadata": {},
     "output_type": "execute_result"
    }
   ],
   "source": [
    "airbnb_data['cancellation_policy'].unique()\n",
    "airbnb_data['cancellation_policy'] = airbnb_data['cancellation_policy'].fillna('undefined')\n",
    "airbnb_data['cancellation_policy'].unique()"
   ]
  },
  {
   "cell_type": "code",
   "execution_count": 16,
   "id": "7afda1fd",
   "metadata": {
    "execution": {
     "iopub.execute_input": "2024-09-29T06:56:14.238391Z",
     "iopub.status.busy": "2024-09-29T06:56:14.237377Z",
     "iopub.status.idle": "2024-09-29T06:56:14.314373Z",
     "shell.execute_reply": "2024-09-29T06:56:14.313064Z"
    },
    "papermill": {
     "duration": 0.096596,
     "end_time": "2024-09-29T06:56:14.317478",
     "exception": false,
     "start_time": "2024-09-29T06:56:14.220882",
     "status": "completed"
    },
    "tags": []
   },
   "outputs": [
    {
     "data": {
      "text/plain": [
       "array(['Private room', 'Entire home', 'Shared room', 'Hotel room'],\n",
       "      dtype=object)"
      ]
     },
     "execution_count": 16,
     "metadata": {},
     "output_type": "execute_result"
    }
   ],
   "source": [
    "airbnb_data['room category'].unique()\n",
    "airbnb_data['room category'] = airbnb_data['room category'].str.replace('/apt','')\n",
    "airbnb_data['room category'].unique()"
   ]
  },
  {
   "cell_type": "code",
   "execution_count": 17,
   "id": "6fb11b3e",
   "metadata": {
    "execution": {
     "iopub.execute_input": "2024-09-29T06:56:14.348295Z",
     "iopub.status.busy": "2024-09-29T06:56:14.347855Z",
     "iopub.status.idle": "2024-09-29T06:56:14.474321Z",
     "shell.execute_reply": "2024-09-29T06:56:14.472743Z"
    },
    "papermill": {
     "duration": 0.145706,
     "end_time": "2024-09-29T06:56:14.477592",
     "exception": false,
     "start_time": "2024-09-29T06:56:14.331886",
     "status": "completed"
    },
    "tags": []
   },
   "outputs": [],
   "source": [
    "airbnb_data['price'].unique()\n",
    "airbnb_data['price'] = airbnb_data['price'].str.replace('$','').str.replace(',','')\n",
    "airbnb_data['price'] = airbnb_data['price'].fillna('0')"
   ]
  },
  {
   "cell_type": "code",
   "execution_count": 18,
   "id": "a7e951dc",
   "metadata": {
    "execution": {
     "iopub.execute_input": "2024-09-29T06:56:14.507484Z",
     "iopub.status.busy": "2024-09-29T06:56:14.506459Z",
     "iopub.status.idle": "2024-09-29T06:56:14.534014Z",
     "shell.execute_reply": "2024-09-29T06:56:14.532847Z"
    },
    "papermill": {
     "duration": 0.045406,
     "end_time": "2024-09-29T06:56:14.536676",
     "exception": false,
     "start_time": "2024-09-29T06:56:14.491270",
     "status": "completed"
    },
    "tags": []
   },
   "outputs": [],
   "source": [
    "airbnb_data['price'] = airbnb_data['price'].astype(float)"
   ]
  },
  {
   "cell_type": "code",
   "execution_count": 19,
   "id": "224605c4",
   "metadata": {
    "execution": {
     "iopub.execute_input": "2024-09-29T06:56:14.566228Z",
     "iopub.status.busy": "2024-09-29T06:56:14.565779Z",
     "iopub.status.idle": "2024-09-29T06:56:14.646330Z",
     "shell.execute_reply": "2024-09-29T06:56:14.645177Z"
    },
    "papermill": {
     "duration": 0.098973,
     "end_time": "2024-09-29T06:56:14.649295",
     "exception": false,
     "start_time": "2024-09-29T06:56:14.550322",
     "status": "completed"
    },
    "tags": []
   },
   "outputs": [
    {
     "name": "stdout",
     "output_type": "stream",
     "text": [
      "<class 'pandas.core.frame.DataFrame'>\n",
      "Index: 102013 entries, 0 to 102057\n",
      "Data columns (total 18 columns):\n",
      " #   Column                  Non-Null Count   Dtype  \n",
      "---  ------                  --------------   -----  \n",
      " 0   id                      102013 non-null  int64  \n",
      " 1   Host Identity           102013 non-null  int64  \n",
      " 2   Host Identity Status    102013 non-null  object \n",
      " 3   neighbourhood group     102013 non-null  object \n",
      " 4   neighbourhood           102013 non-null  object \n",
      " 5   lat coordinate          102005 non-null  float64\n",
      " 6   long coordinate         102005 non-null  float64\n",
      " 7   Immediate Booking       102013 non-null  bool   \n",
      " 8   cancellation_policy     102013 non-null  object \n",
      " 9   room category           102013 non-null  object \n",
      " 10  Year of Construction    101804 non-null  float64\n",
      " 11  price                   102013 non-null  float64\n",
      " 12  service fee             101740 non-null  object \n",
      " 13  required nights         101615 non-null  float64\n",
      " 14  reviews per month       86197 non-null   float64\n",
      " 15  review rate number      101696 non-null  float64\n",
      " 16  Host listings count     101694 non-null  float64\n",
      " 17  Full-year availability  101577 non-null  float64\n",
      "dtypes: bool(1), float64(9), int64(2), object(6)\n",
      "memory usage: 14.1+ MB\n"
     ]
    }
   ],
   "source": [
    "airbnb_data.info()"
   ]
  },
  {
   "cell_type": "code",
   "execution_count": 20,
   "id": "5221ca2b",
   "metadata": {
    "execution": {
     "iopub.execute_input": "2024-09-29T06:56:14.680509Z",
     "iopub.status.busy": "2024-09-29T06:56:14.679485Z",
     "iopub.status.idle": "2024-09-29T06:56:14.855073Z",
     "shell.execute_reply": "2024-09-29T06:56:14.853907Z"
    },
    "papermill": {
     "duration": 0.194702,
     "end_time": "2024-09-29T06:56:14.858125",
     "exception": false,
     "start_time": "2024-09-29T06:56:14.663423",
     "status": "completed"
    },
    "tags": []
   },
   "outputs": [],
   "source": [
    "airbnb_data['service fee'].unique()\n",
    "airbnb_data['service fee'] = airbnb_data['service fee'].str.replace('$','').str.replace(' ','').str.replace(',','')\n",
    "airbnb_data['service fee'] = airbnb_data['service fee'].fillna('0')"
   ]
  },
  {
   "cell_type": "code",
   "execution_count": 21,
   "id": "e4346d5a",
   "metadata": {
    "execution": {
     "iopub.execute_input": "2024-09-29T06:56:14.887601Z",
     "iopub.status.busy": "2024-09-29T06:56:14.887143Z",
     "iopub.status.idle": "2024-09-29T06:56:14.906439Z",
     "shell.execute_reply": "2024-09-29T06:56:14.905071Z"
    },
    "papermill": {
     "duration": 0.037268,
     "end_time": "2024-09-29T06:56:14.909178",
     "exception": false,
     "start_time": "2024-09-29T06:56:14.871910",
     "status": "completed"
    },
    "tags": []
   },
   "outputs": [
    {
     "data": {
      "text/plain": [
       "array(['193', '28', '124', '74', '41', '115', '14', '212', '204', '58',\n",
       "       '64', '121', '143', '116', '30', '0', '56', '95', '27', '210',\n",
       "       '163', '235', '106', '55', '42', '86', '133', '154', '102', '172',\n",
       "       '109', '38', '222', '219', '202', '113', '137', '171', '12', '87',\n",
       "       '183', '92', '73', '146', '180', '67', '51', '181', '88', '205',\n",
       "       '132', '59', '156', '131', '61', '165', '129', '207', '17', '63',\n",
       "       '147', '105', '48', '149', '213', '211', '182', '117', '39', '25',\n",
       "       '216', '10', '118', '72', '76', '69', '32', '148', '101', '177',\n",
       "       '49', '100', '168', '13', '152', '126', '135', '46', '231', '91',\n",
       "       '199', '158', '221', '114', '189', '90', '186', '66', '225', '220',\n",
       "       '53', '19', '238', '119', '98', '34', '227', '23', '162', '203',\n",
       "       '93', '153', '71', '77', '190', '75', '97', '35', '37', '82',\n",
       "       '120', '21', '145', '65', '144', '108', '194', '16', '217', '80',\n",
       "       '188', '81', '139', '22', '150', '50', '176', '151', '26', '89',\n",
       "       '218', '104', '44', '79', '11', '240', '175', '192', '215', '191',\n",
       "       '94', '157', '159', '233', '206', '15', '229', '179', '85', '136',\n",
       "       '170', '201', '141', '123', '36', '187', '198', '54', '122', '184',\n",
       "       '208', '140', '68', '196', '70', '228', '209', '230', '134', '20',\n",
       "       '110', '234', '107', '138', '45', '24', '31', '29', '232', '47',\n",
       "       '239', '161', '33', '83', '128', '166', '125', '43', '18', '167',\n",
       "       '174', '236', '185', '111', '130', '142', '223', '169', '195',\n",
       "       '40', '52', '96', '224', '197', '164', '127', '62', '99', '84',\n",
       "       '237', '178', '103', '155', '57', '226', '160', '173', '60', '214',\n",
       "       '78', '112', '200'], dtype=object)"
      ]
     },
     "execution_count": 21,
     "metadata": {},
     "output_type": "execute_result"
    }
   ],
   "source": [
    "airbnb_data['service fee'].unique()"
   ]
  },
  {
   "cell_type": "code",
   "execution_count": 22,
   "id": "4cab04ba",
   "metadata": {
    "execution": {
     "iopub.execute_input": "2024-09-29T06:56:14.939075Z",
     "iopub.status.busy": "2024-09-29T06:56:14.938664Z",
     "iopub.status.idle": "2024-09-29T06:56:14.965247Z",
     "shell.execute_reply": "2024-09-29T06:56:14.964030Z"
    },
    "papermill": {
     "duration": 0.04489,
     "end_time": "2024-09-29T06:56:14.968050",
     "exception": false,
     "start_time": "2024-09-29T06:56:14.923160",
     "status": "completed"
    },
    "tags": []
   },
   "outputs": [],
   "source": [
    "airbnb_data['service fee'] = airbnb_data['service fee'].astype(float)"
   ]
  },
  {
   "cell_type": "code",
   "execution_count": 23,
   "id": "6ac5d21a",
   "metadata": {
    "execution": {
     "iopub.execute_input": "2024-09-29T06:56:14.999027Z",
     "iopub.status.busy": "2024-09-29T06:56:14.998561Z",
     "iopub.status.idle": "2024-09-29T06:56:15.078797Z",
     "shell.execute_reply": "2024-09-29T06:56:15.077163Z"
    },
    "papermill": {
     "duration": 0.098999,
     "end_time": "2024-09-29T06:56:15.081625",
     "exception": false,
     "start_time": "2024-09-29T06:56:14.982626",
     "status": "completed"
    },
    "tags": []
   },
   "outputs": [
    {
     "name": "stdout",
     "output_type": "stream",
     "text": [
      "<class 'pandas.core.frame.DataFrame'>\n",
      "Index: 102013 entries, 0 to 102057\n",
      "Data columns (total 18 columns):\n",
      " #   Column                  Non-Null Count   Dtype  \n",
      "---  ------                  --------------   -----  \n",
      " 0   id                      102013 non-null  int64  \n",
      " 1   Host Identity           102013 non-null  int64  \n",
      " 2   Host Identity Status    102013 non-null  object \n",
      " 3   neighbourhood group     102013 non-null  object \n",
      " 4   neighbourhood           102013 non-null  object \n",
      " 5   lat coordinate          102005 non-null  float64\n",
      " 6   long coordinate         102005 non-null  float64\n",
      " 7   Immediate Booking       102013 non-null  bool   \n",
      " 8   cancellation_policy     102013 non-null  object \n",
      " 9   room category           102013 non-null  object \n",
      " 10  Year of Construction    101804 non-null  float64\n",
      " 11  price                   102013 non-null  float64\n",
      " 12  service fee             102013 non-null  float64\n",
      " 13  required nights         101615 non-null  float64\n",
      " 14  reviews per month       86197 non-null   float64\n",
      " 15  review rate number      101696 non-null  float64\n",
      " 16  Host listings count     101694 non-null  float64\n",
      " 17  Full-year availability  101577 non-null  float64\n",
      "dtypes: bool(1), float64(10), int64(2), object(5)\n",
      "memory usage: 14.1+ MB\n"
     ]
    }
   ],
   "source": [
    "airbnb_data.info()"
   ]
  },
  {
   "cell_type": "code",
   "execution_count": 24,
   "id": "28703810",
   "metadata": {
    "execution": {
     "iopub.execute_input": "2024-09-29T06:56:15.112574Z",
     "iopub.status.busy": "2024-09-29T06:56:15.112131Z",
     "iopub.status.idle": "2024-09-29T06:56:15.128796Z",
     "shell.execute_reply": "2024-09-29T06:56:15.127456Z"
    },
    "papermill": {
     "duration": 0.034983,
     "end_time": "2024-09-29T06:56:15.131708",
     "exception": false,
     "start_time": "2024-09-29T06:56:15.096725",
     "status": "completed"
    },
    "tags": []
   },
   "outputs": [],
   "source": [
    "airbnb_data[['Year of Construction', 'required nights', 'Full-year availability', 'service fee', 'reviews per month', 'review rate number', 'Host listings count']] = airbnb_data[['Year of Construction', 'required nights', 'Full-year availability', 'service fee', 'reviews per month', 'review rate number', 'Host listings count']].fillna(0).astype(int)"
   ]
  },
  {
   "cell_type": "code",
   "execution_count": 25,
   "id": "f13770d5",
   "metadata": {
    "execution": {
     "iopub.execute_input": "2024-09-29T06:56:15.162728Z",
     "iopub.status.busy": "2024-09-29T06:56:15.162214Z",
     "iopub.status.idle": "2024-09-29T06:56:15.245032Z",
     "shell.execute_reply": "2024-09-29T06:56:15.243017Z"
    },
    "papermill": {
     "duration": 0.102608,
     "end_time": "2024-09-29T06:56:15.248828",
     "exception": false,
     "start_time": "2024-09-29T06:56:15.146220",
     "status": "completed"
    },
    "tags": []
   },
   "outputs": [
    {
     "name": "stdout",
     "output_type": "stream",
     "text": [
      "<class 'pandas.core.frame.DataFrame'>\n",
      "Index: 102013 entries, 0 to 102057\n",
      "Data columns (total 18 columns):\n",
      " #   Column                  Non-Null Count   Dtype  \n",
      "---  ------                  --------------   -----  \n",
      " 0   id                      102013 non-null  int64  \n",
      " 1   Host Identity           102013 non-null  int64  \n",
      " 2   Host Identity Status    102013 non-null  object \n",
      " 3   neighbourhood group     102013 non-null  object \n",
      " 4   neighbourhood           102013 non-null  object \n",
      " 5   lat coordinate          102005 non-null  float64\n",
      " 6   long coordinate         102005 non-null  float64\n",
      " 7   Immediate Booking       102013 non-null  bool   \n",
      " 8   cancellation_policy     102013 non-null  object \n",
      " 9   room category           102013 non-null  object \n",
      " 10  Year of Construction    102013 non-null  int64  \n",
      " 11  price                   102013 non-null  float64\n",
      " 12  service fee             102013 non-null  int64  \n",
      " 13  required nights         102013 non-null  int64  \n",
      " 14  reviews per month       102013 non-null  int64  \n",
      " 15  review rate number      102013 non-null  int64  \n",
      " 16  Host listings count     102013 non-null  int64  \n",
      " 17  Full-year availability  102013 non-null  int64  \n",
      "dtypes: bool(1), float64(3), int64(9), object(5)\n",
      "memory usage: 14.1+ MB\n"
     ]
    }
   ],
   "source": [
    "airbnb_data.info()"
   ]
  },
  {
   "cell_type": "code",
   "execution_count": 26,
   "id": "e0e892ce",
   "metadata": {
    "execution": {
     "iopub.execute_input": "2024-09-29T06:56:15.280440Z",
     "iopub.status.busy": "2024-09-29T06:56:15.279878Z",
     "iopub.status.idle": "2024-09-29T06:56:15.288746Z",
     "shell.execute_reply": "2024-09-29T06:56:15.287602Z"
    },
    "papermill": {
     "duration": 0.027615,
     "end_time": "2024-09-29T06:56:15.291479",
     "exception": false,
     "start_time": "2024-09-29T06:56:15.263864",
     "status": "completed"
    },
    "tags": []
   },
   "outputs": [],
   "source": [
    "airbnb_data['lat coordinate'] = airbnb_data['lat coordinate'].fillna(0.0)\n",
    "airbnb_data['long coordinate'] = airbnb_data['long coordinate'].fillna(0.0)"
   ]
  },
  {
   "cell_type": "code",
   "execution_count": 27,
   "id": "ddfec5ce",
   "metadata": {
    "execution": {
     "iopub.execute_input": "2024-09-29T06:56:15.329557Z",
     "iopub.status.busy": "2024-09-29T06:56:15.328994Z",
     "iopub.status.idle": "2024-09-29T06:56:15.412616Z",
     "shell.execute_reply": "2024-09-29T06:56:15.411369Z"
    },
    "papermill": {
     "duration": 0.106274,
     "end_time": "2024-09-29T06:56:15.415465",
     "exception": false,
     "start_time": "2024-09-29T06:56:15.309191",
     "status": "completed"
    },
    "tags": []
   },
   "outputs": [
    {
     "data": {
      "text/plain": [
       "id                        0\n",
       "Host Identity             0\n",
       "Host Identity Status      0\n",
       "neighbourhood group       0\n",
       "neighbourhood             0\n",
       "lat coordinate            0\n",
       "long coordinate           0\n",
       "Immediate Booking         0\n",
       "cancellation_policy       0\n",
       "room category             0\n",
       "Year of Construction      0\n",
       "price                     0\n",
       "service fee               0\n",
       "required nights           0\n",
       "reviews per month         0\n",
       "review rate number        0\n",
       "Host listings count       0\n",
       "Full-year availability    0\n",
       "dtype: int64"
      ]
     },
     "execution_count": 27,
     "metadata": {},
     "output_type": "execute_result"
    }
   ],
   "source": [
    "airbnb_data.isna().sum()"
   ]
  },
  {
   "cell_type": "code",
   "execution_count": 28,
   "id": "43a2b817",
   "metadata": {
    "execution": {
     "iopub.execute_input": "2024-09-29T06:56:15.447150Z",
     "iopub.status.busy": "2024-09-29T06:56:15.446674Z",
     "iopub.status.idle": "2024-09-29T06:56:15.477755Z",
     "shell.execute_reply": "2024-09-29T06:56:15.476453Z"
    },
    "papermill": {
     "duration": 0.050243,
     "end_time": "2024-09-29T06:56:15.480394",
     "exception": false,
     "start_time": "2024-09-29T06:56:15.430151",
     "status": "completed"
    },
    "tags": []
   },
   "outputs": [
    {
     "data": {
      "text/html": [
       "<div>\n",
       "<style scoped>\n",
       "    .dataframe tbody tr th:only-of-type {\n",
       "        vertical-align: middle;\n",
       "    }\n",
       "\n",
       "    .dataframe tbody tr th {\n",
       "        vertical-align: top;\n",
       "    }\n",
       "\n",
       "    .dataframe thead th {\n",
       "        text-align: right;\n",
       "    }\n",
       "</style>\n",
       "<table border=\"1\" class=\"dataframe\">\n",
       "  <thead>\n",
       "    <tr style=\"text-align: right;\">\n",
       "      <th></th>\n",
       "      <th>id</th>\n",
       "      <th>Host Identity</th>\n",
       "      <th>Host Identity Status</th>\n",
       "      <th>neighbourhood group</th>\n",
       "      <th>neighbourhood</th>\n",
       "      <th>lat coordinate</th>\n",
       "      <th>long coordinate</th>\n",
       "      <th>Immediate Booking</th>\n",
       "      <th>cancellation_policy</th>\n",
       "      <th>room category</th>\n",
       "      <th>Year of Construction</th>\n",
       "      <th>price</th>\n",
       "      <th>service fee</th>\n",
       "      <th>required nights</th>\n",
       "      <th>reviews per month</th>\n",
       "      <th>review rate number</th>\n",
       "      <th>Host listings count</th>\n",
       "      <th>Full-year availability</th>\n",
       "    </tr>\n",
       "  </thead>\n",
       "  <tbody>\n",
       "    <tr>\n",
       "      <th>83862</th>\n",
       "      <td>47318319</td>\n",
       "      <td>12975020456</td>\n",
       "      <td>verified</td>\n",
       "      <td>Queens</td>\n",
       "      <td>Jamaica</td>\n",
       "      <td>40.68410</td>\n",
       "      <td>-73.78203</td>\n",
       "      <td>True</td>\n",
       "      <td>moderate</td>\n",
       "      <td>Private room</td>\n",
       "      <td>2007</td>\n",
       "      <td>801.0</td>\n",
       "      <td>160</td>\n",
       "      <td>1</td>\n",
       "      <td>0</td>\n",
       "      <td>3</td>\n",
       "      <td>4</td>\n",
       "      <td>155</td>\n",
       "    </tr>\n",
       "    <tr>\n",
       "      <th>83254</th>\n",
       "      <td>46982520</td>\n",
       "      <td>31741542992</td>\n",
       "      <td>unconfirmed</td>\n",
       "      <td>Manhattan</td>\n",
       "      <td>Upper East Side</td>\n",
       "      <td>40.78015</td>\n",
       "      <td>-73.95852</td>\n",
       "      <td>True</td>\n",
       "      <td>strict</td>\n",
       "      <td>Entire home</td>\n",
       "      <td>2006</td>\n",
       "      <td>1092.0</td>\n",
       "      <td>218</td>\n",
       "      <td>30</td>\n",
       "      <td>0</td>\n",
       "      <td>2</td>\n",
       "      <td>33</td>\n",
       "      <td>346</td>\n",
       "    </tr>\n",
       "    <tr>\n",
       "      <th>3202</th>\n",
       "      <td>2769801</td>\n",
       "      <td>83909941443</td>\n",
       "      <td>unconfirmed</td>\n",
       "      <td>Brooklyn</td>\n",
       "      <td>Crown Heights</td>\n",
       "      <td>40.67801</td>\n",
       "      <td>-73.96106</td>\n",
       "      <td>True</td>\n",
       "      <td>flexible</td>\n",
       "      <td>Entire home</td>\n",
       "      <td>2013</td>\n",
       "      <td>1085.0</td>\n",
       "      <td>217</td>\n",
       "      <td>7</td>\n",
       "      <td>0</td>\n",
       "      <td>4</td>\n",
       "      <td>1</td>\n",
       "      <td>299</td>\n",
       "    </tr>\n",
       "    <tr>\n",
       "      <th>42378</th>\n",
       "      <td>24406705</td>\n",
       "      <td>85889571595</td>\n",
       "      <td>unconfirmed</td>\n",
       "      <td>Brooklyn</td>\n",
       "      <td>Bushwick</td>\n",
       "      <td>40.69835</td>\n",
       "      <td>-73.93258</td>\n",
       "      <td>True</td>\n",
       "      <td>moderate</td>\n",
       "      <td>Private room</td>\n",
       "      <td>2004</td>\n",
       "      <td>189.0</td>\n",
       "      <td>38</td>\n",
       "      <td>2</td>\n",
       "      <td>0</td>\n",
       "      <td>5</td>\n",
       "      <td>1</td>\n",
       "      <td>188</td>\n",
       "    </tr>\n",
       "    <tr>\n",
       "      <th>80068</th>\n",
       "      <td>45222892</td>\n",
       "      <td>62991906243</td>\n",
       "      <td>unconfirmed</td>\n",
       "      <td>Brooklyn</td>\n",
       "      <td>Crown Heights</td>\n",
       "      <td>40.67653</td>\n",
       "      <td>-73.95793</td>\n",
       "      <td>True</td>\n",
       "      <td>moderate</td>\n",
       "      <td>Private room</td>\n",
       "      <td>2022</td>\n",
       "      <td>300.0</td>\n",
       "      <td>60</td>\n",
       "      <td>1</td>\n",
       "      <td>0</td>\n",
       "      <td>2</td>\n",
       "      <td>1</td>\n",
       "      <td>0</td>\n",
       "    </tr>\n",
       "    <tr>\n",
       "      <th>71457</th>\n",
       "      <td>40467037</td>\n",
       "      <td>33412926306</td>\n",
       "      <td>unconfirmed</td>\n",
       "      <td>Queens</td>\n",
       "      <td>Long Island City</td>\n",
       "      <td>40.75547</td>\n",
       "      <td>-73.92017</td>\n",
       "      <td>True</td>\n",
       "      <td>flexible</td>\n",
       "      <td>Private room</td>\n",
       "      <td>2016</td>\n",
       "      <td>871.0</td>\n",
       "      <td>174</td>\n",
       "      <td>1</td>\n",
       "      <td>0</td>\n",
       "      <td>5</td>\n",
       "      <td>1</td>\n",
       "      <td>0</td>\n",
       "    </tr>\n",
       "    <tr>\n",
       "      <th>33612</th>\n",
       "      <td>19565244</td>\n",
       "      <td>22968134789</td>\n",
       "      <td>unconfirmed</td>\n",
       "      <td>Queens</td>\n",
       "      <td>Astoria</td>\n",
       "      <td>40.75697</td>\n",
       "      <td>-73.91314</td>\n",
       "      <td>False</td>\n",
       "      <td>strict</td>\n",
       "      <td>Private room</td>\n",
       "      <td>2019</td>\n",
       "      <td>256.0</td>\n",
       "      <td>51</td>\n",
       "      <td>2</td>\n",
       "      <td>2</td>\n",
       "      <td>5</td>\n",
       "      <td>3</td>\n",
       "      <td>167</td>\n",
       "    </tr>\n",
       "    <tr>\n",
       "      <th>92430</th>\n",
       "      <td>52050425</td>\n",
       "      <td>46798609692</td>\n",
       "      <td>unconfirmed</td>\n",
       "      <td>Queens</td>\n",
       "      <td>Glendale</td>\n",
       "      <td>40.70099</td>\n",
       "      <td>-73.89034</td>\n",
       "      <td>False</td>\n",
       "      <td>flexible</td>\n",
       "      <td>Private room</td>\n",
       "      <td>2007</td>\n",
       "      <td>1164.0</td>\n",
       "      <td>233</td>\n",
       "      <td>1</td>\n",
       "      <td>5</td>\n",
       "      <td>5</td>\n",
       "      <td>6</td>\n",
       "      <td>216</td>\n",
       "    </tr>\n",
       "    <tr>\n",
       "      <th>85307</th>\n",
       "      <td>48116392</td>\n",
       "      <td>42018561213</td>\n",
       "      <td>unconfirmed</td>\n",
       "      <td>Queens</td>\n",
       "      <td>Astoria</td>\n",
       "      <td>40.76555</td>\n",
       "      <td>-73.91458</td>\n",
       "      <td>False</td>\n",
       "      <td>strict</td>\n",
       "      <td>Private room</td>\n",
       "      <td>2008</td>\n",
       "      <td>1061.0</td>\n",
       "      <td>212</td>\n",
       "      <td>2</td>\n",
       "      <td>0</td>\n",
       "      <td>3</td>\n",
       "      <td>1</td>\n",
       "      <td>130</td>\n",
       "    </tr>\n",
       "    <tr>\n",
       "      <th>89440</th>\n",
       "      <td>50399048</td>\n",
       "      <td>61460227124</td>\n",
       "      <td>verified</td>\n",
       "      <td>Manhattan</td>\n",
       "      <td>Lower East Side</td>\n",
       "      <td>40.71983</td>\n",
       "      <td>-73.98196</td>\n",
       "      <td>True</td>\n",
       "      <td>strict</td>\n",
       "      <td>Entire home</td>\n",
       "      <td>2015</td>\n",
       "      <td>1078.0</td>\n",
       "      <td>216</td>\n",
       "      <td>3</td>\n",
       "      <td>3</td>\n",
       "      <td>1</td>\n",
       "      <td>1</td>\n",
       "      <td>147</td>\n",
       "    </tr>\n",
       "  </tbody>\n",
       "</table>\n",
       "</div>"
      ],
      "text/plain": [
       "             id  Host Identity Host Identity Status neighbourhood group  \\\n",
       "83862  47318319    12975020456             verified              Queens   \n",
       "83254  46982520    31741542992          unconfirmed           Manhattan   \n",
       "3202    2769801    83909941443          unconfirmed            Brooklyn   \n",
       "42378  24406705    85889571595          unconfirmed            Brooklyn   \n",
       "80068  45222892    62991906243          unconfirmed            Brooklyn   \n",
       "71457  40467037    33412926306          unconfirmed              Queens   \n",
       "33612  19565244    22968134789          unconfirmed              Queens   \n",
       "92430  52050425    46798609692          unconfirmed              Queens   \n",
       "85307  48116392    42018561213          unconfirmed              Queens   \n",
       "89440  50399048    61460227124             verified           Manhattan   \n",
       "\n",
       "          neighbourhood  lat coordinate  long coordinate  Immediate Booking  \\\n",
       "83862           Jamaica        40.68410        -73.78203               True   \n",
       "83254   Upper East Side        40.78015        -73.95852               True   \n",
       "3202      Crown Heights        40.67801        -73.96106               True   \n",
       "42378          Bushwick        40.69835        -73.93258               True   \n",
       "80068     Crown Heights        40.67653        -73.95793               True   \n",
       "71457  Long Island City        40.75547        -73.92017               True   \n",
       "33612           Astoria        40.75697        -73.91314              False   \n",
       "92430          Glendale        40.70099        -73.89034              False   \n",
       "85307           Astoria        40.76555        -73.91458              False   \n",
       "89440   Lower East Side        40.71983        -73.98196               True   \n",
       "\n",
       "      cancellation_policy room category  Year of Construction   price  \\\n",
       "83862            moderate  Private room                  2007   801.0   \n",
       "83254              strict   Entire home                  2006  1092.0   \n",
       "3202             flexible   Entire home                  2013  1085.0   \n",
       "42378            moderate  Private room                  2004   189.0   \n",
       "80068            moderate  Private room                  2022   300.0   \n",
       "71457            flexible  Private room                  2016   871.0   \n",
       "33612              strict  Private room                  2019   256.0   \n",
       "92430            flexible  Private room                  2007  1164.0   \n",
       "85307              strict  Private room                  2008  1061.0   \n",
       "89440              strict   Entire home                  2015  1078.0   \n",
       "\n",
       "       service fee  required nights  reviews per month  review rate number  \\\n",
       "83862          160                1                  0                   3   \n",
       "83254          218               30                  0                   2   \n",
       "3202           217                7                  0                   4   \n",
       "42378           38                2                  0                   5   \n",
       "80068           60                1                  0                   2   \n",
       "71457          174                1                  0                   5   \n",
       "33612           51                2                  2                   5   \n",
       "92430          233                1                  5                   5   \n",
       "85307          212                2                  0                   3   \n",
       "89440          216                3                  3                   1   \n",
       "\n",
       "       Host listings count  Full-year availability  \n",
       "83862                    4                     155  \n",
       "83254                   33                     346  \n",
       "3202                     1                     299  \n",
       "42378                    1                     188  \n",
       "80068                    1                       0  \n",
       "71457                    1                       0  \n",
       "33612                    3                     167  \n",
       "92430                    6                     216  \n",
       "85307                    1                     130  \n",
       "89440                    1                     147  "
      ]
     },
     "execution_count": 28,
     "metadata": {},
     "output_type": "execute_result"
    }
   ],
   "source": [
    "airbnb_data.sample(10)"
   ]
  },
  {
   "cell_type": "code",
   "execution_count": 29,
   "id": "f744366e",
   "metadata": {
    "execution": {
     "iopub.execute_input": "2024-09-29T06:56:15.513029Z",
     "iopub.status.busy": "2024-09-29T06:56:15.512583Z",
     "iopub.status.idle": "2024-09-29T06:57:15.608501Z",
     "shell.execute_reply": "2024-09-29T06:57:15.607293Z"
    },
    "papermill": {
     "duration": 60.116047,
     "end_time": "2024-09-29T06:57:15.611813",
     "exception": false,
     "start_time": "2024-09-29T06:56:15.495766",
     "status": "completed"
    },
    "tags": []
   },
   "outputs": [],
   "source": [
    "airbnb_data.to_excel(\"manipulated_data.xlsx\", index=False)"
   ]
  },
  {
   "cell_type": "code",
   "execution_count": null,
   "id": "fe7fd0b6",
   "metadata": {
    "papermill": {
     "duration": 0.014533,
     "end_time": "2024-09-29T06:57:15.642290",
     "exception": false,
     "start_time": "2024-09-29T06:57:15.627757",
     "status": "completed"
    },
    "tags": []
   },
   "outputs": [],
   "source": []
  }
 ],
 "metadata": {
  "kaggle": {
   "accelerator": "none",
   "dataSources": [
    {
     "datasetId": 2380415,
     "sourceId": 4016336,
     "sourceType": "datasetVersion"
    }
   ],
   "dockerImageVersionId": 30775,
   "isGpuEnabled": false,
   "isInternetEnabled": false,
   "language": "python",
   "sourceType": "notebook"
  },
  "kernelspec": {
   "display_name": "Python 3",
   "language": "python",
   "name": "python3"
  },
  "language_info": {
   "codemirror_mode": {
    "name": "ipython",
    "version": 3
   },
   "file_extension": ".py",
   "mimetype": "text/x-python",
   "name": "python",
   "nbconvert_exporter": "python",
   "pygments_lexer": "ipython3",
   "version": "3.10.14"
  },
  "papermill": {
   "default_parameters": {},
   "duration": 71.142473,
   "end_time": "2024-09-29T06:57:16.983137",
   "environment_variables": {},
   "exception": null,
   "input_path": "__notebook__.ipynb",
   "output_path": "__notebook__.ipynb",
   "parameters": {},
   "start_time": "2024-09-29T06:56:05.840664",
   "version": "2.6.0"
  }
 },
 "nbformat": 4,
 "nbformat_minor": 5
}
