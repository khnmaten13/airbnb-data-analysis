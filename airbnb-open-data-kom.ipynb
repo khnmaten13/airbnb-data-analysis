{
 "cells": [
  {
   "cell_type": "markdown",
   "id": "024290a8",
   "metadata": {
    "papermill": {
     "duration": 0.012052,
     "end_time": "2024-10-05T15:05:47.941319",
     "exception": false,
     "start_time": "2024-10-05T15:05:47.929267",
     "status": "completed"
    },
    "tags": []
   },
   "source": [
    "**Load Data**"
   ]
  },
  {
   "cell_type": "code",
   "execution_count": 1,
   "id": "fadf8750",
   "metadata": {
    "_cell_guid": "b1076dfc-b9ad-4769-8c92-a6c4dae69d19",
    "_uuid": "8f2839f25d086af736a60e9eeb907d3b93b6e0e5",
    "execution": {
     "iopub.execute_input": "2024-10-05T15:05:47.966018Z",
     "iopub.status.busy": "2024-10-05T15:05:47.965429Z",
     "iopub.status.idle": "2024-10-05T15:05:49.096278Z",
     "shell.execute_reply": "2024-10-05T15:05:49.094263Z"
    },
    "papermill": {
     "duration": 1.145938,
     "end_time": "2024-10-05T15:05:49.099282",
     "exception": false,
     "start_time": "2024-10-05T15:05:47.953344",
     "status": "completed"
    },
    "tags": []
   },
   "outputs": [
    {
     "name": "stdout",
     "output_type": "stream",
     "text": [
      "/kaggle/input/airbnbopendata/Airbnb_Open_Data.csv\n"
     ]
    }
   ],
   "source": [
    "# This Python 3 environment comes with many helpful analytics libraries installed\n",
    "# It is defined by the kaggle/python Docker image: https://github.com/kaggle/docker-python\n",
    "# For example, here's several helpful packages to load\n",
    "\n",
    "import numpy as np # linear algebra\n",
    "import pandas as pd # data processing, CSV file I/O (e.g. pd.read_csv)\n",
    "\n",
    "# Input data files are available in the read-only \"../input/\" directory\n",
    "# For example, running this (by clicking run or pressing Shift+Enter) will list all files under the input directory\n",
    "\n",
    "import os\n",
    "for dirname, _, filenames in os.walk('/kaggle/input'):\n",
    "    for filename in filenames:\n",
    "        print(os.path.join(dirname, filename))\n",
    "\n",
    "# You can write up to 20GB to the current directory (/kaggle/working/) that gets preserved as output when you create a version using \"Save & Run All\" \n",
    "# You can also write temporary files to /kaggle/temp/, but they won't be saved outside of the current session"
   ]
  },
  {
   "cell_type": "code",
   "execution_count": 2,
   "id": "c21c73ec",
   "metadata": {
    "execution": {
     "iopub.execute_input": "2024-10-05T15:05:49.123784Z",
     "iopub.status.busy": "2024-10-05T15:05:49.123194Z",
     "iopub.status.idle": "2024-10-05T15:05:50.722294Z",
     "shell.execute_reply": "2024-10-05T15:05:50.721025Z"
    },
    "papermill": {
     "duration": 1.615115,
     "end_time": "2024-10-05T15:05:50.725208",
     "exception": false,
     "start_time": "2024-10-05T15:05:49.110093",
     "status": "completed"
    },
    "tags": []
   },
   "outputs": [
    {
     "name": "stderr",
     "output_type": "stream",
     "text": [
      "/tmp/ipykernel_17/1083899366.py:2: DtypeWarning: Columns (25) have mixed types. Specify dtype option on import or set low_memory=False.\n",
      "  airbnb_data = pd.read_csv(\"/kaggle/input/airbnbopendata/Airbnb_Open_Data.csv\")\n"
     ]
    },
    {
     "data": {
      "text/html": [
       "<div>\n",
       "<style scoped>\n",
       "    .dataframe tbody tr th:only-of-type {\n",
       "        vertical-align: middle;\n",
       "    }\n",
       "\n",
       "    .dataframe tbody tr th {\n",
       "        vertical-align: top;\n",
       "    }\n",
       "\n",
       "    .dataframe thead th {\n",
       "        text-align: right;\n",
       "    }\n",
       "</style>\n",
       "<table border=\"1\" class=\"dataframe\">\n",
       "  <thead>\n",
       "    <tr style=\"text-align: right;\">\n",
       "      <th></th>\n",
       "      <th>id</th>\n",
       "      <th>NAME</th>\n",
       "      <th>host id</th>\n",
       "      <th>host_identity_verified</th>\n",
       "      <th>host name</th>\n",
       "      <th>neighbourhood group</th>\n",
       "      <th>neighbourhood</th>\n",
       "      <th>lat</th>\n",
       "      <th>long</th>\n",
       "      <th>country</th>\n",
       "      <th>...</th>\n",
       "      <th>service fee</th>\n",
       "      <th>minimum nights</th>\n",
       "      <th>number of reviews</th>\n",
       "      <th>last review</th>\n",
       "      <th>reviews per month</th>\n",
       "      <th>review rate number</th>\n",
       "      <th>calculated host listings count</th>\n",
       "      <th>availability 365</th>\n",
       "      <th>house_rules</th>\n",
       "      <th>license</th>\n",
       "    </tr>\n",
       "  </thead>\n",
       "  <tbody>\n",
       "    <tr>\n",
       "      <th>1157</th>\n",
       "      <td>1640347</td>\n",
       "      <td>Renovated Spacious 1BR Upper West</td>\n",
       "      <td>45822221727</td>\n",
       "      <td>unconfirmed</td>\n",
       "      <td>Carly</td>\n",
       "      <td>Manhattan</td>\n",
       "      <td>Upper West Side</td>\n",
       "      <td>40.79183</td>\n",
       "      <td>-73.97172</td>\n",
       "      <td>United States</td>\n",
       "      <td>...</td>\n",
       "      <td>$57</td>\n",
       "      <td>3.0</td>\n",
       "      <td>24.0</td>\n",
       "      <td>10/9/2016</td>\n",
       "      <td>0.30</td>\n",
       "      <td>4.0</td>\n",
       "      <td>1.0</td>\n",
       "      <td>139.0</td>\n",
       "      <td>Respect the apartment and neighbors.   Just th...</td>\n",
       "      <td>NaN</td>\n",
       "    </tr>\n",
       "    <tr>\n",
       "      <th>58440</th>\n",
       "      <td>33277748</td>\n",
       "      <td>Bushwick private 10 foot ceiling Bedroom</td>\n",
       "      <td>38642202901</td>\n",
       "      <td>verified</td>\n",
       "      <td>Lakisha</td>\n",
       "      <td>Brooklyn</td>\n",
       "      <td>Bushwick</td>\n",
       "      <td>40.68604</td>\n",
       "      <td>-73.91335</td>\n",
       "      <td>United States</td>\n",
       "      <td>...</td>\n",
       "      <td>$164</td>\n",
       "      <td>1.0</td>\n",
       "      <td>31.0</td>\n",
       "      <td>1/3/2022</td>\n",
       "      <td>0.61</td>\n",
       "      <td>2.0</td>\n",
       "      <td>8.0</td>\n",
       "      <td>81.0</td>\n",
       "      <td>NaN</td>\n",
       "      <td>NaN</td>\n",
       "    </tr>\n",
       "    <tr>\n",
       "      <th>9983</th>\n",
       "      <td>6514947</td>\n",
       "      <td>Stylish Modern Comfort in Bed-Stuy</td>\n",
       "      <td>22363118965</td>\n",
       "      <td>verified</td>\n",
       "      <td>Sam</td>\n",
       "      <td>Brooklyn</td>\n",
       "      <td>Bedford-Stuyvesant</td>\n",
       "      <td>40.68548</td>\n",
       "      <td>-73.94988</td>\n",
       "      <td>United States</td>\n",
       "      <td>...</td>\n",
       "      <td>$110</td>\n",
       "      <td>2.0</td>\n",
       "      <td>3.0</td>\n",
       "      <td>9/24/2015</td>\n",
       "      <td>0.06</td>\n",
       "      <td>1.0</td>\n",
       "      <td>1.0</td>\n",
       "      <td>302.0</td>\n",
       "      <td>NaN</td>\n",
       "      <td>NaN</td>\n",
       "    </tr>\n",
       "    <tr>\n",
       "      <th>82862</th>\n",
       "      <td>46766019</td>\n",
       "      <td>1 Bedroom Apt. Minutes from Manhattan - No Par...</td>\n",
       "      <td>97710300839</td>\n",
       "      <td>verified</td>\n",
       "      <td>Dora</td>\n",
       "      <td>Brooklyn</td>\n",
       "      <td>Prospect Heights</td>\n",
       "      <td>40.68048</td>\n",
       "      <td>-73.96540</td>\n",
       "      <td>United States</td>\n",
       "      <td>...</td>\n",
       "      <td>$14</td>\n",
       "      <td>2.0</td>\n",
       "      <td>61.0</td>\n",
       "      <td>6/23/2019</td>\n",
       "      <td>2.72</td>\n",
       "      <td>2.0</td>\n",
       "      <td>1.0</td>\n",
       "      <td>239.0</td>\n",
       "      <td>Please remember that this is a residential bui...</td>\n",
       "      <td>NaN</td>\n",
       "    </tr>\n",
       "    <tr>\n",
       "      <th>3488</th>\n",
       "      <td>2927758</td>\n",
       "      <td>Private Parlour Floor</td>\n",
       "      <td>19192323301</td>\n",
       "      <td>verified</td>\n",
       "      <td>Lorna</td>\n",
       "      <td>Brooklyn</td>\n",
       "      <td>Clinton Hill</td>\n",
       "      <td>40.68041</td>\n",
       "      <td>-73.95838</td>\n",
       "      <td>United States</td>\n",
       "      <td>...</td>\n",
       "      <td>$181</td>\n",
       "      <td>4.0</td>\n",
       "      <td>74.0</td>\n",
       "      <td>6/11/2019</td>\n",
       "      <td>1.93</td>\n",
       "      <td>3.0</td>\n",
       "      <td>1.0</td>\n",
       "      <td>163.0</td>\n",
       "      <td>Ali's House Rules When you stay in an Airbnb, ...</td>\n",
       "      <td>NaN</td>\n",
       "    </tr>\n",
       "  </tbody>\n",
       "</table>\n",
       "<p>5 rows × 26 columns</p>\n",
       "</div>"
      ],
      "text/plain": [
       "             id                                               NAME  \\\n",
       "1157    1640347                  Renovated Spacious 1BR Upper West   \n",
       "58440  33277748           Bushwick private 10 foot ceiling Bedroom   \n",
       "9983    6514947                 Stylish Modern Comfort in Bed-Stuy   \n",
       "82862  46766019  1 Bedroom Apt. Minutes from Manhattan - No Par...   \n",
       "3488    2927758                              Private Parlour Floor   \n",
       "\n",
       "           host id host_identity_verified host name neighbourhood group  \\\n",
       "1157   45822221727            unconfirmed     Carly           Manhattan   \n",
       "58440  38642202901               verified   Lakisha            Brooklyn   \n",
       "9983   22363118965               verified       Sam            Brooklyn   \n",
       "82862  97710300839               verified      Dora            Brooklyn   \n",
       "3488   19192323301               verified     Lorna            Brooklyn   \n",
       "\n",
       "            neighbourhood       lat      long        country  ... service fee  \\\n",
       "1157      Upper West Side  40.79183 -73.97172  United States  ...        $57    \n",
       "58440            Bushwick  40.68604 -73.91335  United States  ...       $164    \n",
       "9983   Bedford-Stuyvesant  40.68548 -73.94988  United States  ...       $110    \n",
       "82862    Prospect Heights  40.68048 -73.96540  United States  ...        $14    \n",
       "3488         Clinton Hill  40.68041 -73.95838  United States  ...       $181    \n",
       "\n",
       "      minimum nights number of reviews last review  reviews per month  \\\n",
       "1157             3.0              24.0   10/9/2016               0.30   \n",
       "58440            1.0              31.0    1/3/2022               0.61   \n",
       "9983             2.0               3.0   9/24/2015               0.06   \n",
       "82862            2.0              61.0   6/23/2019               2.72   \n",
       "3488             4.0              74.0   6/11/2019               1.93   \n",
       "\n",
       "      review rate number calculated host listings count  availability 365  \\\n",
       "1157                 4.0                            1.0             139.0   \n",
       "58440                2.0                            8.0              81.0   \n",
       "9983                 1.0                            1.0             302.0   \n",
       "82862                2.0                            1.0             239.0   \n",
       "3488                 3.0                            1.0             163.0   \n",
       "\n",
       "                                             house_rules license  \n",
       "1157   Respect the apartment and neighbors.   Just th...     NaN  \n",
       "58440                                                NaN     NaN  \n",
       "9983                                                 NaN     NaN  \n",
       "82862  Please remember that this is a residential bui...     NaN  \n",
       "3488   Ali's House Rules When you stay in an Airbnb, ...     NaN  \n",
       "\n",
       "[5 rows x 26 columns]"
      ]
     },
     "execution_count": 2,
     "metadata": {},
     "output_type": "execute_result"
    }
   ],
   "source": [
    "#Load data and get 5 samples\n",
    "airbnb_data = pd.read_csv(\"/kaggle/input/airbnbopendata/Airbnb_Open_Data.csv\")\n",
    "airbnb_data.sample(5)"
   ]
  },
  {
   "cell_type": "code",
   "execution_count": 3,
   "id": "78bad68f",
   "metadata": {
    "execution": {
     "iopub.execute_input": "2024-10-05T15:05:50.749584Z",
     "iopub.status.busy": "2024-10-05T15:05:50.749098Z",
     "iopub.status.idle": "2024-10-05T15:05:50.757502Z",
     "shell.execute_reply": "2024-10-05T15:05:50.756186Z"
    },
    "papermill": {
     "duration": 0.024254,
     "end_time": "2024-10-05T15:05:50.760576",
     "exception": false,
     "start_time": "2024-10-05T15:05:50.736322",
     "status": "completed"
    },
    "tags": []
   },
   "outputs": [
    {
     "data": {
      "text/plain": [
       "Index(['id', 'NAME', 'host id', 'host_identity_verified', 'host name',\n",
       "       'neighbourhood group', 'neighbourhood', 'lat', 'long', 'country',\n",
       "       'country code', 'instant_bookable', 'cancellation_policy', 'room type',\n",
       "       'Construction year', 'price', 'service fee', 'minimum nights',\n",
       "       'number of reviews', 'last review', 'reviews per month',\n",
       "       'review rate number', 'calculated host listings count',\n",
       "       'availability 365', 'house_rules', 'license'],\n",
       "      dtype='object')"
      ]
     },
     "execution_count": 3,
     "metadata": {},
     "output_type": "execute_result"
    }
   ],
   "source": [
    "#Check the columns\n",
    "airbnb_data.columns"
   ]
  },
  {
   "cell_type": "code",
   "execution_count": 4,
   "id": "6fcea1fc",
   "metadata": {
    "execution": {
     "iopub.execute_input": "2024-10-05T15:05:50.786965Z",
     "iopub.status.busy": "2024-10-05T15:05:50.785882Z",
     "iopub.status.idle": "2024-10-05T15:05:50.971930Z",
     "shell.execute_reply": "2024-10-05T15:05:50.969748Z"
    },
    "papermill": {
     "duration": 0.203643,
     "end_time": "2024-10-05T15:05:50.975903",
     "exception": false,
     "start_time": "2024-10-05T15:05:50.772260",
     "status": "completed"
    },
    "tags": []
   },
   "outputs": [
    {
     "name": "stdout",
     "output_type": "stream",
     "text": [
      "<class 'pandas.core.frame.DataFrame'>\n",
      "RangeIndex: 102599 entries, 0 to 102598\n",
      "Data columns (total 26 columns):\n",
      " #   Column                          Non-Null Count   Dtype  \n",
      "---  ------                          --------------   -----  \n",
      " 0   id                              102599 non-null  int64  \n",
      " 1   NAME                            102349 non-null  object \n",
      " 2   host id                         102599 non-null  int64  \n",
      " 3   host_identity_verified          102310 non-null  object \n",
      " 4   host name                       102193 non-null  object \n",
      " 5   neighbourhood group             102570 non-null  object \n",
      " 6   neighbourhood                   102583 non-null  object \n",
      " 7   lat                             102591 non-null  float64\n",
      " 8   long                            102591 non-null  float64\n",
      " 9   country                         102067 non-null  object \n",
      " 10  country code                    102468 non-null  object \n",
      " 11  instant_bookable                102494 non-null  object \n",
      " 12  cancellation_policy             102523 non-null  object \n",
      " 13  room type                       102599 non-null  object \n",
      " 14  Construction year               102385 non-null  float64\n",
      " 15  price                           102352 non-null  object \n",
      " 16  service fee                     102326 non-null  object \n",
      " 17  minimum nights                  102190 non-null  float64\n",
      " 18  number of reviews               102416 non-null  float64\n",
      " 19  last review                     86706 non-null   object \n",
      " 20  reviews per month               86720 non-null   float64\n",
      " 21  review rate number              102273 non-null  float64\n",
      " 22  calculated host listings count  102280 non-null  float64\n",
      " 23  availability 365                102151 non-null  float64\n",
      " 24  house_rules                     50468 non-null   object \n",
      " 25  license                         2 non-null       object \n",
      "dtypes: float64(9), int64(2), object(15)\n",
      "memory usage: 20.4+ MB\n"
     ]
    }
   ],
   "source": [
    "#Check its infos\n",
    "airbnb_data.info()"
   ]
  },
  {
   "cell_type": "code",
   "execution_count": 5,
   "id": "0f89701e",
   "metadata": {
    "execution": {
     "iopub.execute_input": "2024-10-05T15:05:51.001525Z",
     "iopub.status.busy": "2024-10-05T15:05:51.001064Z",
     "iopub.status.idle": "2024-10-05T15:05:51.111182Z",
     "shell.execute_reply": "2024-10-05T15:05:51.109974Z"
    },
    "papermill": {
     "duration": 0.125846,
     "end_time": "2024-10-05T15:05:51.113707",
     "exception": false,
     "start_time": "2024-10-05T15:05:50.987861",
     "status": "completed"
    },
    "tags": []
   },
   "outputs": [
    {
     "data": {
      "text/html": [
       "<div>\n",
       "<style scoped>\n",
       "    .dataframe tbody tr th:only-of-type {\n",
       "        vertical-align: middle;\n",
       "    }\n",
       "\n",
       "    .dataframe tbody tr th {\n",
       "        vertical-align: top;\n",
       "    }\n",
       "\n",
       "    .dataframe thead th {\n",
       "        text-align: right;\n",
       "    }\n",
       "</style>\n",
       "<table border=\"1\" class=\"dataframe\">\n",
       "  <thead>\n",
       "    <tr style=\"text-align: right;\">\n",
       "      <th></th>\n",
       "      <th>id</th>\n",
       "      <th>host id</th>\n",
       "      <th>lat</th>\n",
       "      <th>long</th>\n",
       "      <th>Construction year</th>\n",
       "      <th>minimum nights</th>\n",
       "      <th>number of reviews</th>\n",
       "      <th>reviews per month</th>\n",
       "      <th>review rate number</th>\n",
       "      <th>calculated host listings count</th>\n",
       "      <th>availability 365</th>\n",
       "    </tr>\n",
       "  </thead>\n",
       "  <tbody>\n",
       "    <tr>\n",
       "      <th>count</th>\n",
       "      <td>1.025990e+05</td>\n",
       "      <td>1.025990e+05</td>\n",
       "      <td>102591.000000</td>\n",
       "      <td>102591.000000</td>\n",
       "      <td>102385.000000</td>\n",
       "      <td>102190.000000</td>\n",
       "      <td>102416.000000</td>\n",
       "      <td>86720.000000</td>\n",
       "      <td>102273.000000</td>\n",
       "      <td>102280.000000</td>\n",
       "      <td>102151.000000</td>\n",
       "    </tr>\n",
       "    <tr>\n",
       "      <th>mean</th>\n",
       "      <td>2.914623e+07</td>\n",
       "      <td>4.925411e+10</td>\n",
       "      <td>40.728094</td>\n",
       "      <td>-73.949644</td>\n",
       "      <td>2012.487464</td>\n",
       "      <td>8.135845</td>\n",
       "      <td>27.483743</td>\n",
       "      <td>1.374022</td>\n",
       "      <td>3.279106</td>\n",
       "      <td>7.936605</td>\n",
       "      <td>141.133254</td>\n",
       "    </tr>\n",
       "    <tr>\n",
       "      <th>std</th>\n",
       "      <td>1.625751e+07</td>\n",
       "      <td>2.853900e+10</td>\n",
       "      <td>0.055857</td>\n",
       "      <td>0.049521</td>\n",
       "      <td>5.765556</td>\n",
       "      <td>30.553781</td>\n",
       "      <td>49.508954</td>\n",
       "      <td>1.746621</td>\n",
       "      <td>1.284657</td>\n",
       "      <td>32.218780</td>\n",
       "      <td>135.435024</td>\n",
       "    </tr>\n",
       "    <tr>\n",
       "      <th>min</th>\n",
       "      <td>1.001254e+06</td>\n",
       "      <td>1.236005e+08</td>\n",
       "      <td>40.499790</td>\n",
       "      <td>-74.249840</td>\n",
       "      <td>2003.000000</td>\n",
       "      <td>-1223.000000</td>\n",
       "      <td>0.000000</td>\n",
       "      <td>0.010000</td>\n",
       "      <td>1.000000</td>\n",
       "      <td>1.000000</td>\n",
       "      <td>-10.000000</td>\n",
       "    </tr>\n",
       "    <tr>\n",
       "      <th>25%</th>\n",
       "      <td>1.508581e+07</td>\n",
       "      <td>2.458333e+10</td>\n",
       "      <td>40.688740</td>\n",
       "      <td>-73.982580</td>\n",
       "      <td>2007.000000</td>\n",
       "      <td>2.000000</td>\n",
       "      <td>1.000000</td>\n",
       "      <td>0.220000</td>\n",
       "      <td>2.000000</td>\n",
       "      <td>1.000000</td>\n",
       "      <td>3.000000</td>\n",
       "    </tr>\n",
       "    <tr>\n",
       "      <th>50%</th>\n",
       "      <td>2.913660e+07</td>\n",
       "      <td>4.911774e+10</td>\n",
       "      <td>40.722290</td>\n",
       "      <td>-73.954440</td>\n",
       "      <td>2012.000000</td>\n",
       "      <td>3.000000</td>\n",
       "      <td>7.000000</td>\n",
       "      <td>0.740000</td>\n",
       "      <td>3.000000</td>\n",
       "      <td>1.000000</td>\n",
       "      <td>96.000000</td>\n",
       "    </tr>\n",
       "    <tr>\n",
       "      <th>75%</th>\n",
       "      <td>4.320120e+07</td>\n",
       "      <td>7.399650e+10</td>\n",
       "      <td>40.762760</td>\n",
       "      <td>-73.932350</td>\n",
       "      <td>2017.000000</td>\n",
       "      <td>5.000000</td>\n",
       "      <td>30.000000</td>\n",
       "      <td>2.000000</td>\n",
       "      <td>4.000000</td>\n",
       "      <td>2.000000</td>\n",
       "      <td>269.000000</td>\n",
       "    </tr>\n",
       "    <tr>\n",
       "      <th>max</th>\n",
       "      <td>5.736742e+07</td>\n",
       "      <td>9.876313e+10</td>\n",
       "      <td>40.916970</td>\n",
       "      <td>-73.705220</td>\n",
       "      <td>2022.000000</td>\n",
       "      <td>5645.000000</td>\n",
       "      <td>1024.000000</td>\n",
       "      <td>90.000000</td>\n",
       "      <td>5.000000</td>\n",
       "      <td>332.000000</td>\n",
       "      <td>3677.000000</td>\n",
       "    </tr>\n",
       "  </tbody>\n",
       "</table>\n",
       "</div>"
      ],
      "text/plain": [
       "                 id       host id            lat           long  \\\n",
       "count  1.025990e+05  1.025990e+05  102591.000000  102591.000000   \n",
       "mean   2.914623e+07  4.925411e+10      40.728094     -73.949644   \n",
       "std    1.625751e+07  2.853900e+10       0.055857       0.049521   \n",
       "min    1.001254e+06  1.236005e+08      40.499790     -74.249840   \n",
       "25%    1.508581e+07  2.458333e+10      40.688740     -73.982580   \n",
       "50%    2.913660e+07  4.911774e+10      40.722290     -73.954440   \n",
       "75%    4.320120e+07  7.399650e+10      40.762760     -73.932350   \n",
       "max    5.736742e+07  9.876313e+10      40.916970     -73.705220   \n",
       "\n",
       "       Construction year  minimum nights  number of reviews  \\\n",
       "count      102385.000000   102190.000000      102416.000000   \n",
       "mean         2012.487464        8.135845          27.483743   \n",
       "std             5.765556       30.553781          49.508954   \n",
       "min          2003.000000    -1223.000000           0.000000   \n",
       "25%          2007.000000        2.000000           1.000000   \n",
       "50%          2012.000000        3.000000           7.000000   \n",
       "75%          2017.000000        5.000000          30.000000   \n",
       "max          2022.000000     5645.000000        1024.000000   \n",
       "\n",
       "       reviews per month  review rate number  calculated host listings count  \\\n",
       "count       86720.000000       102273.000000                   102280.000000   \n",
       "mean            1.374022            3.279106                        7.936605   \n",
       "std             1.746621            1.284657                       32.218780   \n",
       "min             0.010000            1.000000                        1.000000   \n",
       "25%             0.220000            2.000000                        1.000000   \n",
       "50%             0.740000            3.000000                        1.000000   \n",
       "75%             2.000000            4.000000                        2.000000   \n",
       "max            90.000000            5.000000                      332.000000   \n",
       "\n",
       "       availability 365  \n",
       "count     102151.000000  \n",
       "mean         141.133254  \n",
       "std          135.435024  \n",
       "min          -10.000000  \n",
       "25%            3.000000  \n",
       "50%           96.000000  \n",
       "75%          269.000000  \n",
       "max         3677.000000  "
      ]
     },
     "execution_count": 5,
     "metadata": {},
     "output_type": "execute_result"
    }
   ],
   "source": [
    "#Get its statistical datas\n",
    "airbnb_data.describe()"
   ]
  },
  {
   "cell_type": "markdown",
   "id": "2a74454e",
   "metadata": {
    "papermill": {
     "duration": 0.012747,
     "end_time": "2024-10-05T15:05:51.138565",
     "exception": false,
     "start_time": "2024-10-05T15:05:51.125818",
     "status": "completed"
    },
    "tags": []
   },
   "source": [
    "**Clean Data**"
   ]
  },
  {
   "cell_type": "code",
   "execution_count": 6,
   "id": "6e6039a3",
   "metadata": {
    "execution": {
     "iopub.execute_input": "2024-10-05T15:05:51.165381Z",
     "iopub.status.busy": "2024-10-05T15:05:51.164915Z",
     "iopub.status.idle": "2024-10-05T15:05:51.556390Z",
     "shell.execute_reply": "2024-10-05T15:05:51.554843Z"
    },
    "papermill": {
     "duration": 0.408996,
     "end_time": "2024-10-05T15:05:51.559440",
     "exception": false,
     "start_time": "2024-10-05T15:05:51.150444",
     "status": "completed"
    },
    "tags": []
   },
   "outputs": [
    {
     "data": {
      "text/plain": [
       "541"
      ]
     },
     "execution_count": 6,
     "metadata": {},
     "output_type": "execute_result"
    }
   ],
   "source": [
    "#Check for duplicates\n",
    "airbnb_data.duplicated().sum()"
   ]
  },
  {
   "cell_type": "code",
   "execution_count": 7,
   "id": "3425ad83",
   "metadata": {
    "execution": {
     "iopub.execute_input": "2024-10-05T15:05:51.585073Z",
     "iopub.status.busy": "2024-10-05T15:05:51.584587Z",
     "iopub.status.idle": "2024-10-05T15:05:52.380434Z",
     "shell.execute_reply": "2024-10-05T15:05:52.379250Z"
    },
    "papermill": {
     "duration": 0.811892,
     "end_time": "2024-10-05T15:05:52.383227",
     "exception": false,
     "start_time": "2024-10-05T15:05:51.571335",
     "status": "completed"
    },
    "tags": []
   },
   "outputs": [
    {
     "data": {
      "text/plain": [
       "0"
      ]
     },
     "execution_count": 7,
     "metadata": {},
     "output_type": "execute_result"
    }
   ],
   "source": [
    "#Remove duplicates\n",
    "airbnb_data.drop_duplicates(inplace = True)\n",
    "airbnb_data.duplicated().sum()"
   ]
  },
  {
   "cell_type": "code",
   "execution_count": 8,
   "id": "19ce81eb",
   "metadata": {
    "execution": {
     "iopub.execute_input": "2024-10-05T15:05:52.409575Z",
     "iopub.status.busy": "2024-10-05T15:05:52.409104Z",
     "iopub.status.idle": "2024-10-05T15:05:52.575008Z",
     "shell.execute_reply": "2024-10-05T15:05:52.573626Z"
    },
    "papermill": {
     "duration": 0.182838,
     "end_time": "2024-10-05T15:05:52.578313",
     "exception": false,
     "start_time": "2024-10-05T15:05:52.395475",
     "status": "completed"
    },
    "tags": []
   },
   "outputs": [
    {
     "data": {
      "text/plain": [
       "id                                     0\n",
       "NAME                                 250\n",
       "host id                                0\n",
       "host_identity_verified               289\n",
       "host name                            404\n",
       "neighbourhood group                   29\n",
       "neighbourhood                         16\n",
       "lat                                    8\n",
       "long                                   8\n",
       "country                              532\n",
       "country code                         131\n",
       "instant_bookable                     105\n",
       "cancellation_policy                   76\n",
       "room type                              0\n",
       "Construction year                    214\n",
       "price                                247\n",
       "service fee                          273\n",
       "minimum nights                       400\n",
       "number of reviews                    183\n",
       "last review                        15832\n",
       "reviews per month                  15818\n",
       "review rate number                   319\n",
       "calculated host listings count       319\n",
       "availability 365                     448\n",
       "house_rules                        51842\n",
       "license                           102056\n",
       "dtype: int64"
      ]
     },
     "execution_count": 8,
     "metadata": {},
     "output_type": "execute_result"
    }
   ],
   "source": [
    "#Check for null values\n",
    "airbnb_data.isna().sum()"
   ]
  },
  {
   "cell_type": "code",
   "execution_count": 9,
   "id": "cf2b60f7",
   "metadata": {
    "execution": {
     "iopub.execute_input": "2024-10-05T15:05:52.606662Z",
     "iopub.status.busy": "2024-10-05T15:05:52.606201Z",
     "iopub.status.idle": "2024-10-05T15:05:52.738126Z",
     "shell.execute_reply": "2024-10-05T15:05:52.736731Z"
    },
    "papermill": {
     "duration": 0.150033,
     "end_time": "2024-10-05T15:05:52.741658",
     "exception": false,
     "start_time": "2024-10-05T15:05:52.591625",
     "status": "completed"
    },
    "tags": []
   },
   "outputs": [
    {
     "name": "stdout",
     "output_type": "stream",
     "text": [
      "<class 'pandas.core.frame.DataFrame'>\n",
      "Index: 102058 entries, 0 to 102057\n",
      "Data columns (total 18 columns):\n",
      " #   Column                          Non-Null Count   Dtype  \n",
      "---  ------                          --------------   -----  \n",
      " 0   id                              102058 non-null  int64  \n",
      " 1   host id                         102058 non-null  int64  \n",
      " 2   host_identity_verified          101769 non-null  object \n",
      " 3   neighbourhood group             102029 non-null  object \n",
      " 4   neighbourhood                   102042 non-null  object \n",
      " 5   lat                             102050 non-null  float64\n",
      " 6   long                            102050 non-null  float64\n",
      " 7   instant_bookable                101953 non-null  object \n",
      " 8   cancellation_policy             101982 non-null  object \n",
      " 9   room type                       102058 non-null  object \n",
      " 10  Construction year               101844 non-null  float64\n",
      " 11  price                           101811 non-null  object \n",
      " 12  service fee                     101785 non-null  object \n",
      " 13  minimum nights                  101658 non-null  float64\n",
      " 14  reviews per month               86240 non-null   float64\n",
      " 15  review rate number              101739 non-null  float64\n",
      " 16  calculated host listings count  101739 non-null  float64\n",
      " 17  availability 365                101610 non-null  float64\n",
      "dtypes: float64(8), int64(2), object(8)\n",
      "memory usage: 14.8+ MB\n"
     ]
    }
   ],
   "source": [
    "#Drop unnecessary columns, if they exist\n",
    "columns_to_drop = ['host name', 'country', 'house_rules', 'last review', 'country code', 'NAME', 'number of reviews', 'license']\n",
    "airbnb_data = airbnb_data.drop(columns=[col for col in columns_to_drop if col in airbnb_data.columns], errors='ignore')\n",
    "airbnb_data.info()"
   ]
  },
  {
   "cell_type": "code",
   "execution_count": 10,
   "id": "399b0a8e",
   "metadata": {
    "execution": {
     "iopub.execute_input": "2024-10-05T15:05:52.775407Z",
     "iopub.status.busy": "2024-10-05T15:05:52.774659Z",
     "iopub.status.idle": "2024-10-05T15:05:52.890616Z",
     "shell.execute_reply": "2024-10-05T15:05:52.889258Z"
    },
    "papermill": {
     "duration": 0.133813,
     "end_time": "2024-10-05T15:05:52.893469",
     "exception": false,
     "start_time": "2024-10-05T15:05:52.759656",
     "status": "completed"
    },
    "tags": []
   },
   "outputs": [
    {
     "name": "stdout",
     "output_type": "stream",
     "text": [
      "<class 'pandas.core.frame.DataFrame'>\n",
      "Index: 102058 entries, 0 to 102057\n",
      "Data columns (total 18 columns):\n",
      " #   Column                  Non-Null Count   Dtype  \n",
      "---  ------                  --------------   -----  \n",
      " 0   id                      102058 non-null  int64  \n",
      " 1   Host Identity           102058 non-null  int64  \n",
      " 2   Host Identity Status    101769 non-null  object \n",
      " 3   neighbourhood group     102029 non-null  object \n",
      " 4   neighbourhood           102042 non-null  object \n",
      " 5   lat coordinate          102050 non-null  float64\n",
      " 6   long coordinate         102050 non-null  float64\n",
      " 7   Immediate Booking       101953 non-null  object \n",
      " 8   cancellation_policy     101982 non-null  object \n",
      " 9   room category           102058 non-null  object \n",
      " 10  Year of Construction    101844 non-null  float64\n",
      " 11  price                   101811 non-null  object \n",
      " 12  service fee             101785 non-null  object \n",
      " 13  required nights         101658 non-null  float64\n",
      " 14  reviews per month       86240 non-null   float64\n",
      " 15  review rate number      101739 non-null  float64\n",
      " 16  Host listings count     101739 non-null  float64\n",
      " 17  Full-year availability  101610 non-null  float64\n",
      "dtypes: float64(8), int64(2), object(8)\n",
      "memory usage: 14.8+ MB\n"
     ]
    }
   ],
   "source": [
    "#Rename columns for better understanding\n",
    "airbnb_data = airbnb_data.rename(columns={\n",
    "    'host id': 'Host Identity',\n",
    "    'host_identity_verified': 'Host Identity Status',\n",
    "    'lat': 'lat coordinate',\n",
    "    'long': 'long coordinate',\n",
    "    'instant_bookable': 'Immediate Booking',\n",
    "    'room type': 'room category',\n",
    "    'Construction year': 'Year of Construction',\n",
    "    'minimum nights': 'required nights',\n",
    "    'calculated host listings count': 'Host listings count',\n",
    "    'availability 365': 'Full-year availability'\n",
    "})\n",
    "airbnb_data.info()"
   ]
  },
  {
   "cell_type": "code",
   "execution_count": 11,
   "id": "35cdc2a8",
   "metadata": {
    "execution": {
     "iopub.execute_input": "2024-10-05T15:05:52.920692Z",
     "iopub.status.busy": "2024-10-05T15:05:52.920251Z",
     "iopub.status.idle": "2024-10-05T15:05:52.963604Z",
     "shell.execute_reply": "2024-10-05T15:05:52.962416Z"
    },
    "papermill": {
     "duration": 0.06034,
     "end_time": "2024-10-05T15:05:52.966472",
     "exception": false,
     "start_time": "2024-10-05T15:05:52.906132",
     "status": "completed"
    },
    "tags": []
   },
   "outputs": [
    {
     "data": {
      "text/plain": [
       "array(['unconfirmed', 'verified'], dtype=object)"
      ]
     },
     "execution_count": 11,
     "metadata": {},
     "output_type": "execute_result"
    }
   ],
   "source": [
    "airbnb_data['Host Identity Status'].unique()\n",
    "airbnb_data['Host Identity Status'] = airbnb_data['Host Identity Status'].fillna('unconfirmed')\n",
    "airbnb_data['Host Identity Status'].unique()"
   ]
  },
  {
   "cell_type": "code",
   "execution_count": 12,
   "id": "542933ec",
   "metadata": {
    "execution": {
     "iopub.execute_input": "2024-10-05T15:05:52.996564Z",
     "iopub.status.busy": "2024-10-05T15:05:52.996120Z",
     "iopub.status.idle": "2024-10-05T15:05:53.099016Z",
     "shell.execute_reply": "2024-10-05T15:05:53.097782Z"
    },
    "papermill": {
     "duration": 0.120752,
     "end_time": "2024-10-05T15:05:53.101857",
     "exception": false,
     "start_time": "2024-10-05T15:05:52.981105",
     "status": "completed"
    },
    "tags": []
   },
   "outputs": [
    {
     "data": {
      "text/plain": [
       "array(['Brooklyn', 'Manhattan', 'Queens', 'Staten Island', 'Bronx'],\n",
       "      dtype=object)"
      ]
     },
     "execution_count": 12,
     "metadata": {},
     "output_type": "execute_result"
    }
   ],
   "source": [
    "#\n",
    "\n",
    "airbnb_data = airbnb_data.dropna(subset=['neighbourhood group','neighbourhood'])\n",
    "airbnb_data['neighbourhood group'].unique()\n",
    "airbnb_data['neighbourhood group'] = airbnb_data['neighbourhood group'].replace({\n",
    "    'brookln': 'Brooklyn',     # Correct 'brookln' to 'Brooklyn'\n",
    "    'manhatan': 'Manhattan'    # Correct 'manhatan' to 'Manhattan'\n",
    "})\n",
    "airbnb_data['neighbourhood group'].unique()"
   ]
  },
  {
   "cell_type": "code",
   "execution_count": 13,
   "id": "5a152abc",
   "metadata": {
    "execution": {
     "iopub.execute_input": "2024-10-05T15:05:53.129817Z",
     "iopub.status.busy": "2024-10-05T15:05:53.129396Z",
     "iopub.status.idle": "2024-10-05T15:05:53.150198Z",
     "shell.execute_reply": "2024-10-05T15:05:53.148836Z"
    },
    "papermill": {
     "duration": 0.037833,
     "end_time": "2024-10-05T15:05:53.152940",
     "exception": false,
     "start_time": "2024-10-05T15:05:53.115107",
     "status": "completed"
    },
    "tags": []
   },
   "outputs": [
    {
     "data": {
      "text/plain": [
       "array(['Kensington', 'Midtown', 'Harlem', 'Clinton Hill', 'East Harlem',\n",
       "       'Murray Hill', 'Bedford-Stuyvesant', \"Hell's Kitchen\",\n",
       "       'Upper West Side', 'Chinatown', 'South Slope', 'West Village',\n",
       "       'Williamsburg', 'Fort Greene', 'Chelsea', 'Crown Heights',\n",
       "       'Park Slope', 'Windsor Terrace', 'Inwood', 'East Village',\n",
       "       'Greenpoint', 'Bushwick', 'Flatbush', 'Lower East Side',\n",
       "       'Prospect-Lefferts Gardens', 'Long Island City', 'Kips Bay',\n",
       "       'SoHo', 'Upper East Side', 'Prospect Heights', 'Brooklyn Heights',\n",
       "       'Carroll Gardens', 'Washington Heights', 'Gowanus', 'Flatlands',\n",
       "       'Cobble Hill', 'Flushing', 'Boerum Hill', 'Sunnyside', 'DUMBO',\n",
       "       'St. George', 'Highbridge', 'Financial District', 'Ridgewood',\n",
       "       'Morningside Heights', 'Jamaica', 'Middle Village', 'NoHo',\n",
       "       'Ditmars Steinway', 'Flatiron District', 'Roosevelt Island',\n",
       "       'Greenwich Village', 'Little Italy', 'East Flatbush',\n",
       "       'Tompkinsville', 'Astoria', 'Clason Point', 'Kingsbridge',\n",
       "       'Two Bridges', 'Rockaway Beach', 'Forest Hills', 'Nolita',\n",
       "       'Woodlawn', 'University Heights', 'Gravesend', 'Gramercy',\n",
       "       'Allerton', 'East New York', 'Theater District',\n",
       "       'Concourse Village', 'Sheepshead Bay', 'Emerson Hill',\n",
       "       'Fort Hamilton', 'Bensonhurst', 'Tribeca', 'Shore Acres',\n",
       "       'Sunset Park', 'Concourse', 'Elmhurst', 'Brighton Beach',\n",
       "       'Jackson Heights', 'Cypress Hills', 'St. Albans', 'Arrochar',\n",
       "       'Rego Park', 'Wakefield', 'Woodside', 'Clifton', 'Bay Ridge',\n",
       "       'Graniteville', 'Spuyten Duyvil', 'Stapleton', 'Briarwood',\n",
       "       'Ozone Park', 'Columbia St', 'Vinegar Hill', 'Mott Haven',\n",
       "       'Longwood', 'Canarsie', 'Battery Park City', 'Civic Center',\n",
       "       'East Elmhurst', 'New Springville', 'Morris Heights', 'Arverne',\n",
       "       'Cambria Heights', 'Tottenville', 'Mariners Harbor', 'Concord',\n",
       "       'Borough Park', 'Bayside', 'Downtown Brooklyn', 'Port Morris',\n",
       "       'Fieldston', 'Kew Gardens', 'Midwood', 'College Point',\n",
       "       'Mount Eden', 'City Island', 'Glendale', 'Port Richmond',\n",
       "       'Red Hook', 'Richmond Hill', 'Queens Village', 'Bellerose',\n",
       "       'Maspeth', 'Williamsbridge', 'Soundview', 'Woodhaven', 'Woodrow',\n",
       "       'Co-op City', 'Stuyvesant Town', 'Parkchester', 'North Riverdale',\n",
       "       'Dyker Heights', 'Bronxdale', 'Sea Gate', 'Riverdale',\n",
       "       'Kew Gardens Hills', 'Bay Terrace', 'Norwood', 'Claremont Village',\n",
       "       'Whitestone', 'Fordham', 'Bayswater', 'Navy Yard', 'Brownsville',\n",
       "       'Eltingville', 'Fresh Meadows', 'Mount Hope', 'Lighthouse Hill',\n",
       "       'Springfield Gardens', 'Eastchester', 'Howard Beach',\n",
       "       'Belle Harbor', 'Jamaica Estates', 'Van Nest', 'Morris Park',\n",
       "       'West Brighton', 'Far Rockaway', 'South Ozone Park', 'Tremont',\n",
       "       'Corona', 'Great Kills', 'Manhattan Beach', 'Marble Hill',\n",
       "       'Dongan Hills', 'Castleton Corners', 'East Morrisania',\n",
       "       'Hunts Point', 'Neponsit', 'Pelham Bay', 'Randall Manor',\n",
       "       'Throgs Neck', 'Todt Hill', 'West Farms', 'Silver Lake',\n",
       "       'Morrisania', 'Laurelton', 'Grymes Hill', 'Holliswood',\n",
       "       'Pelham Gardens', 'Belmont', 'Rosedale', 'Edgemere',\n",
       "       'New Brighton', 'Midland Beach', 'Baychester', 'Melrose',\n",
       "       'Bergen Beach', 'Richmondtown', 'Howland Hook', 'Schuylerville',\n",
       "       'Coney Island', 'New Dorp Beach', \"Prince's Bay\", 'South Beach',\n",
       "       'Bath Beach', 'Jamaica Hills', 'Oakwood', 'Castle Hill', 'Hollis',\n",
       "       'Douglaston', 'Huguenot', 'Olinville', 'Edenwald', 'Grant City',\n",
       "       'Westerleigh', 'Bay Terrace, Staten Island', 'Westchester Square',\n",
       "       'Little Neck', 'Fort Wadsworth', 'Rosebank', 'Unionport',\n",
       "       'Mill Basin', 'Arden Heights', \"Bull's Head\", 'New Dorp',\n",
       "       'Rossville', 'Breezy Point', 'Willowbrook', 'Glen Oaks',\n",
       "       'Gerritsen Beach', 'Chelsea, Staten Island'], dtype=object)"
      ]
     },
     "execution_count": 13,
     "metadata": {},
     "output_type": "execute_result"
    }
   ],
   "source": [
    "airbnb_data['neighbourhood'].unique()"
   ]
  },
  {
   "cell_type": "code",
   "execution_count": 14,
   "id": "15d9846f",
   "metadata": {
    "execution": {
     "iopub.execute_input": "2024-10-05T15:05:53.182038Z",
     "iopub.status.busy": "2024-10-05T15:05:53.181523Z",
     "iopub.status.idle": "2024-10-05T15:05:53.223806Z",
     "shell.execute_reply": "2024-10-05T15:05:53.222420Z"
    },
    "papermill": {
     "duration": 0.060857,
     "end_time": "2024-10-05T15:05:53.227210",
     "exception": false,
     "start_time": "2024-10-05T15:05:53.166353",
     "status": "completed"
    },
    "tags": []
   },
   "outputs": [
    {
     "name": "stderr",
     "output_type": "stream",
     "text": [
      "/tmp/ipykernel_17/1869171798.py:2: FutureWarning: Downcasting object dtype arrays on .fillna, .ffill, .bfill is deprecated and will change in a future version. Call result.infer_objects(copy=False) instead. To opt-in to the future behavior, set `pd.set_option('future.no_silent_downcasting', True)`\n",
      "  airbnb_data['Immediate Booking'] = airbnb_data['Immediate Booking'].fillna(False)\n"
     ]
    },
    {
     "data": {
      "text/plain": [
       "array([False,  True])"
      ]
     },
     "execution_count": 14,
     "metadata": {},
     "output_type": "execute_result"
    }
   ],
   "source": [
    "airbnb_data['Immediate Booking'].unique()\n",
    "airbnb_data['Immediate Booking'] = airbnb_data['Immediate Booking'].fillna(False)\n",
    "airbnb_data['Immediate Booking'].unique()"
   ]
  },
  {
   "cell_type": "code",
   "execution_count": 15,
   "id": "71ce3eb1",
   "metadata": {
    "execution": {
     "iopub.execute_input": "2024-10-05T15:05:53.255876Z",
     "iopub.status.busy": "2024-10-05T15:05:53.255437Z",
     "iopub.status.idle": "2024-10-05T15:05:53.298287Z",
     "shell.execute_reply": "2024-10-05T15:05:53.296756Z"
    },
    "papermill": {
     "duration": 0.060672,
     "end_time": "2024-10-05T15:05:53.301259",
     "exception": false,
     "start_time": "2024-10-05T15:05:53.240587",
     "status": "completed"
    },
    "tags": []
   },
   "outputs": [
    {
     "data": {
      "text/plain": [
       "array(['strict', 'moderate', 'flexible', 'undefined'], dtype=object)"
      ]
     },
     "execution_count": 15,
     "metadata": {},
     "output_type": "execute_result"
    }
   ],
   "source": [
    "airbnb_data['cancellation_policy'].unique()\n",
    "airbnb_data['cancellation_policy'] = airbnb_data['cancellation_policy'].fillna('undefined')\n",
    "airbnb_data['cancellation_policy'].unique()"
   ]
  },
  {
   "cell_type": "code",
   "execution_count": 16,
   "id": "f026f4c0",
   "metadata": {
    "execution": {
     "iopub.execute_input": "2024-10-05T15:05:53.330984Z",
     "iopub.status.busy": "2024-10-05T15:05:53.330418Z",
     "iopub.status.idle": "2024-10-05T15:05:53.411429Z",
     "shell.execute_reply": "2024-10-05T15:05:53.410197Z"
    },
    "papermill": {
     "duration": 0.099506,
     "end_time": "2024-10-05T15:05:53.414322",
     "exception": false,
     "start_time": "2024-10-05T15:05:53.314816",
     "status": "completed"
    },
    "tags": []
   },
   "outputs": [
    {
     "data": {
      "text/plain": [
       "array(['Private room', 'Entire home', 'Shared room', 'Hotel room'],\n",
       "      dtype=object)"
      ]
     },
     "execution_count": 16,
     "metadata": {},
     "output_type": "execute_result"
    }
   ],
   "source": [
    "airbnb_data['room category'].unique()\n",
    "airbnb_data['room category'] = airbnb_data['room category'].str.replace('/apt','')\n",
    "airbnb_data['room category'].unique()"
   ]
  },
  {
   "cell_type": "code",
   "execution_count": 17,
   "id": "b136172a",
   "metadata": {
    "execution": {
     "iopub.execute_input": "2024-10-05T15:05:53.444203Z",
     "iopub.status.busy": "2024-10-05T15:05:53.443707Z",
     "iopub.status.idle": "2024-10-05T15:05:53.576929Z",
     "shell.execute_reply": "2024-10-05T15:05:53.575474Z"
    },
    "papermill": {
     "duration": 0.151943,
     "end_time": "2024-10-05T15:05:53.580364",
     "exception": false,
     "start_time": "2024-10-05T15:05:53.428421",
     "status": "completed"
    },
    "tags": []
   },
   "outputs": [],
   "source": [
    "airbnb_data['price'].unique()\n",
    "airbnb_data['price'] = airbnb_data['price'].str.replace('$','').str.replace(',','')\n",
    "airbnb_data['price'] = airbnb_data['price'].fillna('0')"
   ]
  },
  {
   "cell_type": "code",
   "execution_count": 18,
   "id": "3f64cd44",
   "metadata": {
    "execution": {
     "iopub.execute_input": "2024-10-05T15:05:53.610322Z",
     "iopub.status.busy": "2024-10-05T15:05:53.609830Z",
     "iopub.status.idle": "2024-10-05T15:05:53.637626Z",
     "shell.execute_reply": "2024-10-05T15:05:53.636001Z"
    },
    "papermill": {
     "duration": 0.046172,
     "end_time": "2024-10-05T15:05:53.640879",
     "exception": false,
     "start_time": "2024-10-05T15:05:53.594707",
     "status": "completed"
    },
    "tags": []
   },
   "outputs": [],
   "source": [
    "airbnb_data['price'] = airbnb_data['price'].astype(float)"
   ]
  },
  {
   "cell_type": "code",
   "execution_count": 19,
   "id": "98993e25",
   "metadata": {
    "execution": {
     "iopub.execute_input": "2024-10-05T15:05:53.670947Z",
     "iopub.status.busy": "2024-10-05T15:05:53.670462Z",
     "iopub.status.idle": "2024-10-05T15:05:53.755408Z",
     "shell.execute_reply": "2024-10-05T15:05:53.753868Z"
    },
    "papermill": {
     "duration": 0.103673,
     "end_time": "2024-10-05T15:05:53.758828",
     "exception": false,
     "start_time": "2024-10-05T15:05:53.655155",
     "status": "completed"
    },
    "tags": []
   },
   "outputs": [
    {
     "name": "stdout",
     "output_type": "stream",
     "text": [
      "<class 'pandas.core.frame.DataFrame'>\n",
      "Index: 102013 entries, 0 to 102057\n",
      "Data columns (total 18 columns):\n",
      " #   Column                  Non-Null Count   Dtype  \n",
      "---  ------                  --------------   -----  \n",
      " 0   id                      102013 non-null  int64  \n",
      " 1   Host Identity           102013 non-null  int64  \n",
      " 2   Host Identity Status    102013 non-null  object \n",
      " 3   neighbourhood group     102013 non-null  object \n",
      " 4   neighbourhood           102013 non-null  object \n",
      " 5   lat coordinate          102005 non-null  float64\n",
      " 6   long coordinate         102005 non-null  float64\n",
      " 7   Immediate Booking       102013 non-null  bool   \n",
      " 8   cancellation_policy     102013 non-null  object \n",
      " 9   room category           102013 non-null  object \n",
      " 10  Year of Construction    101804 non-null  float64\n",
      " 11  price                   102013 non-null  float64\n",
      " 12  service fee             101740 non-null  object \n",
      " 13  required nights         101615 non-null  float64\n",
      " 14  reviews per month       86197 non-null   float64\n",
      " 15  review rate number      101696 non-null  float64\n",
      " 16  Host listings count     101694 non-null  float64\n",
      " 17  Full-year availability  101577 non-null  float64\n",
      "dtypes: bool(1), float64(9), int64(2), object(6)\n",
      "memory usage: 14.1+ MB\n"
     ]
    }
   ],
   "source": [
    "airbnb_data.info()"
   ]
  },
  {
   "cell_type": "code",
   "execution_count": 20,
   "id": "97beb234",
   "metadata": {
    "execution": {
     "iopub.execute_input": "2024-10-05T15:05:53.791106Z",
     "iopub.status.busy": "2024-10-05T15:05:53.790670Z",
     "iopub.status.idle": "2024-10-05T15:05:53.971990Z",
     "shell.execute_reply": "2024-10-05T15:05:53.970593Z"
    },
    "papermill": {
     "duration": 0.202639,
     "end_time": "2024-10-05T15:05:53.976969",
     "exception": false,
     "start_time": "2024-10-05T15:05:53.774330",
     "status": "completed"
    },
    "tags": []
   },
   "outputs": [],
   "source": [
    "airbnb_data['service fee'].unique()\n",
    "airbnb_data['service fee'] = airbnb_data['service fee'].str.replace('$','').str.replace(' ','').str.replace(',','')\n",
    "airbnb_data['service fee'] = airbnb_data['service fee'].fillna('0')"
   ]
  },
  {
   "cell_type": "code",
   "execution_count": 21,
   "id": "9b34259d",
   "metadata": {
    "execution": {
     "iopub.execute_input": "2024-10-05T15:05:54.010439Z",
     "iopub.status.busy": "2024-10-05T15:05:54.009988Z",
     "iopub.status.idle": "2024-10-05T15:05:54.029318Z",
     "shell.execute_reply": "2024-10-05T15:05:54.028078Z"
    },
    "papermill": {
     "duration": 0.040614,
     "end_time": "2024-10-05T15:05:54.032911",
     "exception": false,
     "start_time": "2024-10-05T15:05:53.992297",
     "status": "completed"
    },
    "tags": []
   },
   "outputs": [
    {
     "data": {
      "text/plain": [
       "array(['193', '28', '124', '74', '41', '115', '14', '212', '204', '58',\n",
       "       '64', '121', '143', '116', '30', '0', '56', '95', '27', '210',\n",
       "       '163', '235', '106', '55', '42', '86', '133', '154', '102', '172',\n",
       "       '109', '38', '222', '219', '202', '113', '137', '171', '12', '87',\n",
       "       '183', '92', '73', '146', '180', '67', '51', '181', '88', '205',\n",
       "       '132', '59', '156', '131', '61', '165', '129', '207', '17', '63',\n",
       "       '147', '105', '48', '149', '213', '211', '182', '117', '39', '25',\n",
       "       '216', '10', '118', '72', '76', '69', '32', '148', '101', '177',\n",
       "       '49', '100', '168', '13', '152', '126', '135', '46', '231', '91',\n",
       "       '199', '158', '221', '114', '189', '90', '186', '66', '225', '220',\n",
       "       '53', '19', '238', '119', '98', '34', '227', '23', '162', '203',\n",
       "       '93', '153', '71', '77', '190', '75', '97', '35', '37', '82',\n",
       "       '120', '21', '145', '65', '144', '108', '194', '16', '217', '80',\n",
       "       '188', '81', '139', '22', '150', '50', '176', '151', '26', '89',\n",
       "       '218', '104', '44', '79', '11', '240', '175', '192', '215', '191',\n",
       "       '94', '157', '159', '233', '206', '15', '229', '179', '85', '136',\n",
       "       '170', '201', '141', '123', '36', '187', '198', '54', '122', '184',\n",
       "       '208', '140', '68', '196', '70', '228', '209', '230', '134', '20',\n",
       "       '110', '234', '107', '138', '45', '24', '31', '29', '232', '47',\n",
       "       '239', '161', '33', '83', '128', '166', '125', '43', '18', '167',\n",
       "       '174', '236', '185', '111', '130', '142', '223', '169', '195',\n",
       "       '40', '52', '96', '224', '197', '164', '127', '62', '99', '84',\n",
       "       '237', '178', '103', '155', '57', '226', '160', '173', '60', '214',\n",
       "       '78', '112', '200'], dtype=object)"
      ]
     },
     "execution_count": 21,
     "metadata": {},
     "output_type": "execute_result"
    }
   ],
   "source": [
    "airbnb_data['service fee'].unique()"
   ]
  },
  {
   "cell_type": "code",
   "execution_count": 22,
   "id": "10912788",
   "metadata": {
    "execution": {
     "iopub.execute_input": "2024-10-05T15:05:54.065803Z",
     "iopub.status.busy": "2024-10-05T15:05:54.065384Z",
     "iopub.status.idle": "2024-10-05T15:05:54.093523Z",
     "shell.execute_reply": "2024-10-05T15:05:54.091981Z"
    },
    "papermill": {
     "duration": 0.048913,
     "end_time": "2024-10-05T15:05:54.096467",
     "exception": false,
     "start_time": "2024-10-05T15:05:54.047554",
     "status": "completed"
    },
    "tags": []
   },
   "outputs": [],
   "source": [
    "airbnb_data['service fee'] = airbnb_data['service fee'].astype(float)"
   ]
  },
  {
   "cell_type": "code",
   "execution_count": 23,
   "id": "6a210118",
   "metadata": {
    "execution": {
     "iopub.execute_input": "2024-10-05T15:05:54.128116Z",
     "iopub.status.busy": "2024-10-05T15:05:54.127504Z",
     "iopub.status.idle": "2024-10-05T15:05:54.210391Z",
     "shell.execute_reply": "2024-10-05T15:05:54.208479Z"
    },
    "papermill": {
     "duration": 0.102808,
     "end_time": "2024-10-05T15:05:54.213654",
     "exception": false,
     "start_time": "2024-10-05T15:05:54.110846",
     "status": "completed"
    },
    "tags": []
   },
   "outputs": [
    {
     "name": "stdout",
     "output_type": "stream",
     "text": [
      "<class 'pandas.core.frame.DataFrame'>\n",
      "Index: 102013 entries, 0 to 102057\n",
      "Data columns (total 18 columns):\n",
      " #   Column                  Non-Null Count   Dtype  \n",
      "---  ------                  --------------   -----  \n",
      " 0   id                      102013 non-null  int64  \n",
      " 1   Host Identity           102013 non-null  int64  \n",
      " 2   Host Identity Status    102013 non-null  object \n",
      " 3   neighbourhood group     102013 non-null  object \n",
      " 4   neighbourhood           102013 non-null  object \n",
      " 5   lat coordinate          102005 non-null  float64\n",
      " 6   long coordinate         102005 non-null  float64\n",
      " 7   Immediate Booking       102013 non-null  bool   \n",
      " 8   cancellation_policy     102013 non-null  object \n",
      " 9   room category           102013 non-null  object \n",
      " 10  Year of Construction    101804 non-null  float64\n",
      " 11  price                   102013 non-null  float64\n",
      " 12  service fee             102013 non-null  float64\n",
      " 13  required nights         101615 non-null  float64\n",
      " 14  reviews per month       86197 non-null   float64\n",
      " 15  review rate number      101696 non-null  float64\n",
      " 16  Host listings count     101694 non-null  float64\n",
      " 17  Full-year availability  101577 non-null  float64\n",
      "dtypes: bool(1), float64(10), int64(2), object(5)\n",
      "memory usage: 14.1+ MB\n"
     ]
    }
   ],
   "source": [
    "airbnb_data.info()"
   ]
  },
  {
   "cell_type": "code",
   "execution_count": 24,
   "id": "7a95c884",
   "metadata": {
    "execution": {
     "iopub.execute_input": "2024-10-05T15:05:54.246048Z",
     "iopub.status.busy": "2024-10-05T15:05:54.245499Z",
     "iopub.status.idle": "2024-10-05T15:05:54.263856Z",
     "shell.execute_reply": "2024-10-05T15:05:54.262518Z"
    },
    "papermill": {
     "duration": 0.037753,
     "end_time": "2024-10-05T15:05:54.267460",
     "exception": false,
     "start_time": "2024-10-05T15:05:54.229707",
     "status": "completed"
    },
    "tags": []
   },
   "outputs": [],
   "source": [
    "airbnb_data[['Year of Construction', 'required nights', 'Full-year availability', 'service fee', 'reviews per month', 'review rate number', 'Host listings count']] = airbnb_data[['Year of Construction', 'required nights', 'Full-year availability', 'service fee', 'reviews per month', 'review rate number', 'Host listings count']].fillna(0).astype(int)"
   ]
  },
  {
   "cell_type": "code",
   "execution_count": 25,
   "id": "5cc02bb0",
   "metadata": {
    "execution": {
     "iopub.execute_input": "2024-10-05T15:05:54.299345Z",
     "iopub.status.busy": "2024-10-05T15:05:54.298875Z",
     "iopub.status.idle": "2024-10-05T15:05:54.370463Z",
     "shell.execute_reply": "2024-10-05T15:05:54.369088Z"
    },
    "papermill": {
     "duration": 0.09078,
     "end_time": "2024-10-05T15:05:54.373706",
     "exception": false,
     "start_time": "2024-10-05T15:05:54.282926",
     "status": "completed"
    },
    "tags": []
   },
   "outputs": [
    {
     "name": "stdout",
     "output_type": "stream",
     "text": [
      "<class 'pandas.core.frame.DataFrame'>\n",
      "Index: 102013 entries, 0 to 102057\n",
      "Data columns (total 18 columns):\n",
      " #   Column                  Non-Null Count   Dtype  \n",
      "---  ------                  --------------   -----  \n",
      " 0   id                      102013 non-null  int64  \n",
      " 1   Host Identity           102013 non-null  int64  \n",
      " 2   Host Identity Status    102013 non-null  object \n",
      " 3   neighbourhood group     102013 non-null  object \n",
      " 4   neighbourhood           102013 non-null  object \n",
      " 5   lat coordinate          102005 non-null  float64\n",
      " 6   long coordinate         102005 non-null  float64\n",
      " 7   Immediate Booking       102013 non-null  bool   \n",
      " 8   cancellation_policy     102013 non-null  object \n",
      " 9   room category           102013 non-null  object \n",
      " 10  Year of Construction    102013 non-null  int64  \n",
      " 11  price                   102013 non-null  float64\n",
      " 12  service fee             102013 non-null  int64  \n",
      " 13  required nights         102013 non-null  int64  \n",
      " 14  reviews per month       102013 non-null  int64  \n",
      " 15  review rate number      102013 non-null  int64  \n",
      " 16  Host listings count     102013 non-null  int64  \n",
      " 17  Full-year availability  102013 non-null  int64  \n",
      "dtypes: bool(1), float64(3), int64(9), object(5)\n",
      "memory usage: 14.1+ MB\n"
     ]
    }
   ],
   "source": [
    "airbnb_data.info()"
   ]
  },
  {
   "cell_type": "code",
   "execution_count": 26,
   "id": "fdb4cc06",
   "metadata": {
    "execution": {
     "iopub.execute_input": "2024-10-05T15:05:54.405662Z",
     "iopub.status.busy": "2024-10-05T15:05:54.405223Z",
     "iopub.status.idle": "2024-10-05T15:05:54.416243Z",
     "shell.execute_reply": "2024-10-05T15:05:54.414945Z"
    },
    "papermill": {
     "duration": 0.031202,
     "end_time": "2024-10-05T15:05:54.419173",
     "exception": false,
     "start_time": "2024-10-05T15:05:54.387971",
     "status": "completed"
    },
    "tags": []
   },
   "outputs": [],
   "source": [
    "airbnb_data['lat coordinate'] = airbnb_data['lat coordinate'].fillna(0.0)\n",
    "airbnb_data['long coordinate'] = airbnb_data['long coordinate'].fillna(0.0)"
   ]
  },
  {
   "cell_type": "code",
   "execution_count": 27,
   "id": "1eea1a2a",
   "metadata": {
    "execution": {
     "iopub.execute_input": "2024-10-05T15:05:54.449850Z",
     "iopub.status.busy": "2024-10-05T15:05:54.449417Z",
     "iopub.status.idle": "2024-10-05T15:05:54.521128Z",
     "shell.execute_reply": "2024-10-05T15:05:54.519632Z"
    },
    "papermill": {
     "duration": 0.090964,
     "end_time": "2024-10-05T15:05:54.524354",
     "exception": false,
     "start_time": "2024-10-05T15:05:54.433390",
     "status": "completed"
    },
    "tags": []
   },
   "outputs": [
    {
     "data": {
      "text/plain": [
       "id                        0\n",
       "Host Identity             0\n",
       "Host Identity Status      0\n",
       "neighbourhood group       0\n",
       "neighbourhood             0\n",
       "lat coordinate            0\n",
       "long coordinate           0\n",
       "Immediate Booking         0\n",
       "cancellation_policy       0\n",
       "room category             0\n",
       "Year of Construction      0\n",
       "price                     0\n",
       "service fee               0\n",
       "required nights           0\n",
       "reviews per month         0\n",
       "review rate number        0\n",
       "Host listings count       0\n",
       "Full-year availability    0\n",
       "dtype: int64"
      ]
     },
     "execution_count": 27,
     "metadata": {},
     "output_type": "execute_result"
    }
   ],
   "source": [
    "airbnb_data.isna().sum()"
   ]
  },
  {
   "cell_type": "code",
   "execution_count": 28,
   "id": "f23dd3b1",
   "metadata": {
    "execution": {
     "iopub.execute_input": "2024-10-05T15:05:54.556668Z",
     "iopub.status.busy": "2024-10-05T15:05:54.556211Z",
     "iopub.status.idle": "2024-10-05T15:05:54.588539Z",
     "shell.execute_reply": "2024-10-05T15:05:54.587018Z"
    },
    "papermill": {
     "duration": 0.05172,
     "end_time": "2024-10-05T15:05:54.591209",
     "exception": false,
     "start_time": "2024-10-05T15:05:54.539489",
     "status": "completed"
    },
    "tags": []
   },
   "outputs": [
    {
     "data": {
      "text/html": [
       "<div>\n",
       "<style scoped>\n",
       "    .dataframe tbody tr th:only-of-type {\n",
       "        vertical-align: middle;\n",
       "    }\n",
       "\n",
       "    .dataframe tbody tr th {\n",
       "        vertical-align: top;\n",
       "    }\n",
       "\n",
       "    .dataframe thead th {\n",
       "        text-align: right;\n",
       "    }\n",
       "</style>\n",
       "<table border=\"1\" class=\"dataframe\">\n",
       "  <thead>\n",
       "    <tr style=\"text-align: right;\">\n",
       "      <th></th>\n",
       "      <th>id</th>\n",
       "      <th>Host Identity</th>\n",
       "      <th>Host Identity Status</th>\n",
       "      <th>neighbourhood group</th>\n",
       "      <th>neighbourhood</th>\n",
       "      <th>lat coordinate</th>\n",
       "      <th>long coordinate</th>\n",
       "      <th>Immediate Booking</th>\n",
       "      <th>cancellation_policy</th>\n",
       "      <th>room category</th>\n",
       "      <th>Year of Construction</th>\n",
       "      <th>price</th>\n",
       "      <th>service fee</th>\n",
       "      <th>required nights</th>\n",
       "      <th>reviews per month</th>\n",
       "      <th>review rate number</th>\n",
       "      <th>Host listings count</th>\n",
       "      <th>Full-year availability</th>\n",
       "    </tr>\n",
       "  </thead>\n",
       "  <tbody>\n",
       "    <tr>\n",
       "      <th>98069</th>\n",
       "      <td>55164845</td>\n",
       "      <td>3600704595</td>\n",
       "      <td>unconfirmed</td>\n",
       "      <td>Manhattan</td>\n",
       "      <td>Midtown</td>\n",
       "      <td>40.76043</td>\n",
       "      <td>-73.97075</td>\n",
       "      <td>True</td>\n",
       "      <td>moderate</td>\n",
       "      <td>Private room</td>\n",
       "      <td>2019</td>\n",
       "      <td>901.0</td>\n",
       "      <td>180</td>\n",
       "      <td>3</td>\n",
       "      <td>0</td>\n",
       "      <td>2</td>\n",
       "      <td>2</td>\n",
       "      <td>127</td>\n",
       "    </tr>\n",
       "    <tr>\n",
       "      <th>32227</th>\n",
       "      <td>18800308</td>\n",
       "      <td>55729057889</td>\n",
       "      <td>unconfirmed</td>\n",
       "      <td>Brooklyn</td>\n",
       "      <td>Greenpoint</td>\n",
       "      <td>40.73499</td>\n",
       "      <td>-73.95513</td>\n",
       "      <td>True</td>\n",
       "      <td>strict</td>\n",
       "      <td>Private room</td>\n",
       "      <td>2003</td>\n",
       "      <td>286.0</td>\n",
       "      <td>57</td>\n",
       "      <td>10</td>\n",
       "      <td>0</td>\n",
       "      <td>2</td>\n",
       "      <td>1</td>\n",
       "      <td>0</td>\n",
       "    </tr>\n",
       "    <tr>\n",
       "      <th>96298</th>\n",
       "      <td>54186721</td>\n",
       "      <td>67572643575</td>\n",
       "      <td>verified</td>\n",
       "      <td>Brooklyn</td>\n",
       "      <td>Bushwick</td>\n",
       "      <td>40.69934</td>\n",
       "      <td>-73.92265</td>\n",
       "      <td>True</td>\n",
       "      <td>strict</td>\n",
       "      <td>Private room</td>\n",
       "      <td>2004</td>\n",
       "      <td>1173.0</td>\n",
       "      <td>235</td>\n",
       "      <td>3</td>\n",
       "      <td>1</td>\n",
       "      <td>2</td>\n",
       "      <td>2</td>\n",
       "      <td>0</td>\n",
       "    </tr>\n",
       "    <tr>\n",
       "      <th>47863</th>\n",
       "      <td>27436071</td>\n",
       "      <td>5909363368</td>\n",
       "      <td>unconfirmed</td>\n",
       "      <td>Manhattan</td>\n",
       "      <td>Murray Hill</td>\n",
       "      <td>40.74864</td>\n",
       "      <td>-73.97100</td>\n",
       "      <td>False</td>\n",
       "      <td>strict</td>\n",
       "      <td>Entire home</td>\n",
       "      <td>2016</td>\n",
       "      <td>131.0</td>\n",
       "      <td>26</td>\n",
       "      <td>1</td>\n",
       "      <td>0</td>\n",
       "      <td>5</td>\n",
       "      <td>1</td>\n",
       "      <td>364</td>\n",
       "    </tr>\n",
       "    <tr>\n",
       "      <th>96645</th>\n",
       "      <td>54378370</td>\n",
       "      <td>53704045935</td>\n",
       "      <td>unconfirmed</td>\n",
       "      <td>Manhattan</td>\n",
       "      <td>Chelsea</td>\n",
       "      <td>40.74330</td>\n",
       "      <td>-74.00119</td>\n",
       "      <td>True</td>\n",
       "      <td>flexible</td>\n",
       "      <td>Entire home</td>\n",
       "      <td>2016</td>\n",
       "      <td>282.0</td>\n",
       "      <td>56</td>\n",
       "      <td>5</td>\n",
       "      <td>0</td>\n",
       "      <td>4</td>\n",
       "      <td>1</td>\n",
       "      <td>46</td>\n",
       "    </tr>\n",
       "    <tr>\n",
       "      <th>61502</th>\n",
       "      <td>34968891</td>\n",
       "      <td>1043001520</td>\n",
       "      <td>unconfirmed</td>\n",
       "      <td>Manhattan</td>\n",
       "      <td>Harlem</td>\n",
       "      <td>40.82920</td>\n",
       "      <td>-73.94221</td>\n",
       "      <td>False</td>\n",
       "      <td>flexible</td>\n",
       "      <td>Private room</td>\n",
       "      <td>2018</td>\n",
       "      <td>296.0</td>\n",
       "      <td>59</td>\n",
       "      <td>3</td>\n",
       "      <td>0</td>\n",
       "      <td>5</td>\n",
       "      <td>2</td>\n",
       "      <td>76</td>\n",
       "    </tr>\n",
       "    <tr>\n",
       "      <th>8922</th>\n",
       "      <td>5928957</td>\n",
       "      <td>17176883630</td>\n",
       "      <td>verified</td>\n",
       "      <td>Manhattan</td>\n",
       "      <td>Lower East Side</td>\n",
       "      <td>40.72082</td>\n",
       "      <td>-73.98592</td>\n",
       "      <td>False</td>\n",
       "      <td>flexible</td>\n",
       "      <td>Private room</td>\n",
       "      <td>2011</td>\n",
       "      <td>88.0</td>\n",
       "      <td>18</td>\n",
       "      <td>1</td>\n",
       "      <td>0</td>\n",
       "      <td>5</td>\n",
       "      <td>1</td>\n",
       "      <td>150</td>\n",
       "    </tr>\n",
       "    <tr>\n",
       "      <th>27541</th>\n",
       "      <td>16212230</td>\n",
       "      <td>35157176218</td>\n",
       "      <td>verified</td>\n",
       "      <td>Manhattan</td>\n",
       "      <td>Harlem</td>\n",
       "      <td>40.81223</td>\n",
       "      <td>-73.93992</td>\n",
       "      <td>False</td>\n",
       "      <td>strict</td>\n",
       "      <td>Entire home</td>\n",
       "      <td>2016</td>\n",
       "      <td>202.0</td>\n",
       "      <td>40</td>\n",
       "      <td>3</td>\n",
       "      <td>0</td>\n",
       "      <td>3</td>\n",
       "      <td>1</td>\n",
       "      <td>0</td>\n",
       "    </tr>\n",
       "    <tr>\n",
       "      <th>33559</th>\n",
       "      <td>19535972</td>\n",
       "      <td>24471873675</td>\n",
       "      <td>unconfirmed</td>\n",
       "      <td>Brooklyn</td>\n",
       "      <td>Bushwick</td>\n",
       "      <td>40.69949</td>\n",
       "      <td>-73.92383</td>\n",
       "      <td>True</td>\n",
       "      <td>flexible</td>\n",
       "      <td>Entire home</td>\n",
       "      <td>2012</td>\n",
       "      <td>1119.0</td>\n",
       "      <td>224</td>\n",
       "      <td>2</td>\n",
       "      <td>0</td>\n",
       "      <td>4</td>\n",
       "      <td>1</td>\n",
       "      <td>0</td>\n",
       "    </tr>\n",
       "    <tr>\n",
       "      <th>43199</th>\n",
       "      <td>24860144</td>\n",
       "      <td>47054626398</td>\n",
       "      <td>unconfirmed</td>\n",
       "      <td>Queens</td>\n",
       "      <td>Woodside</td>\n",
       "      <td>40.74239</td>\n",
       "      <td>-73.90180</td>\n",
       "      <td>True</td>\n",
       "      <td>moderate</td>\n",
       "      <td>Entire home</td>\n",
       "      <td>2019</td>\n",
       "      <td>644.0</td>\n",
       "      <td>129</td>\n",
       "      <td>3</td>\n",
       "      <td>2</td>\n",
       "      <td>2</td>\n",
       "      <td>1</td>\n",
       "      <td>236</td>\n",
       "    </tr>\n",
       "  </tbody>\n",
       "</table>\n",
       "</div>"
      ],
      "text/plain": [
       "             id  Host Identity Host Identity Status neighbourhood group  \\\n",
       "98069  55164845     3600704595          unconfirmed           Manhattan   \n",
       "32227  18800308    55729057889          unconfirmed            Brooklyn   \n",
       "96298  54186721    67572643575             verified            Brooklyn   \n",
       "47863  27436071     5909363368          unconfirmed           Manhattan   \n",
       "96645  54378370    53704045935          unconfirmed           Manhattan   \n",
       "61502  34968891     1043001520          unconfirmed           Manhattan   \n",
       "8922    5928957    17176883630             verified           Manhattan   \n",
       "27541  16212230    35157176218             verified           Manhattan   \n",
       "33559  19535972    24471873675          unconfirmed            Brooklyn   \n",
       "43199  24860144    47054626398          unconfirmed              Queens   \n",
       "\n",
       "         neighbourhood  lat coordinate  long coordinate  Immediate Booking  \\\n",
       "98069          Midtown        40.76043        -73.97075               True   \n",
       "32227       Greenpoint        40.73499        -73.95513               True   \n",
       "96298         Bushwick        40.69934        -73.92265               True   \n",
       "47863      Murray Hill        40.74864        -73.97100              False   \n",
       "96645          Chelsea        40.74330        -74.00119               True   \n",
       "61502           Harlem        40.82920        -73.94221              False   \n",
       "8922   Lower East Side        40.72082        -73.98592              False   \n",
       "27541           Harlem        40.81223        -73.93992              False   \n",
       "33559         Bushwick        40.69949        -73.92383               True   \n",
       "43199         Woodside        40.74239        -73.90180               True   \n",
       "\n",
       "      cancellation_policy room category  Year of Construction   price  \\\n",
       "98069            moderate  Private room                  2019   901.0   \n",
       "32227              strict  Private room                  2003   286.0   \n",
       "96298              strict  Private room                  2004  1173.0   \n",
       "47863              strict   Entire home                  2016   131.0   \n",
       "96645            flexible   Entire home                  2016   282.0   \n",
       "61502            flexible  Private room                  2018   296.0   \n",
       "8922             flexible  Private room                  2011    88.0   \n",
       "27541              strict   Entire home                  2016   202.0   \n",
       "33559            flexible   Entire home                  2012  1119.0   \n",
       "43199            moderate   Entire home                  2019   644.0   \n",
       "\n",
       "       service fee  required nights  reviews per month  review rate number  \\\n",
       "98069          180                3                  0                   2   \n",
       "32227           57               10                  0                   2   \n",
       "96298          235                3                  1                   2   \n",
       "47863           26                1                  0                   5   \n",
       "96645           56                5                  0                   4   \n",
       "61502           59                3                  0                   5   \n",
       "8922            18                1                  0                   5   \n",
       "27541           40                3                  0                   3   \n",
       "33559          224                2                  0                   4   \n",
       "43199          129                3                  2                   2   \n",
       "\n",
       "       Host listings count  Full-year availability  \n",
       "98069                    2                     127  \n",
       "32227                    1                       0  \n",
       "96298                    2                       0  \n",
       "47863                    1                     364  \n",
       "96645                    1                      46  \n",
       "61502                    2                      76  \n",
       "8922                     1                     150  \n",
       "27541                    1                       0  \n",
       "33559                    1                       0  \n",
       "43199                    1                     236  "
      ]
     },
     "execution_count": 28,
     "metadata": {},
     "output_type": "execute_result"
    }
   ],
   "source": [
    "airbnb_data.sample(10)"
   ]
  },
  {
   "cell_type": "code",
   "execution_count": 29,
   "id": "28ab94ef",
   "metadata": {
    "execution": {
     "iopub.execute_input": "2024-10-05T15:05:54.624618Z",
     "iopub.status.busy": "2024-10-05T15:05:54.624186Z",
     "iopub.status.idle": "2024-10-05T15:06:56.286928Z",
     "shell.execute_reply": "2024-10-05T15:06:56.285460Z"
    },
    "papermill": {
     "duration": 61.683772,
     "end_time": "2024-10-05T15:06:56.290494",
     "exception": false,
     "start_time": "2024-10-05T15:05:54.606722",
     "status": "completed"
    },
    "tags": []
   },
   "outputs": [],
   "source": [
    "airbnb_data.to_excel(\"manipulated_data.xlsx\", index=False)"
   ]
  },
  {
   "cell_type": "code",
   "execution_count": null,
   "id": "0758d3bb",
   "metadata": {
    "papermill": {
     "duration": 0.015055,
     "end_time": "2024-10-05T15:06:56.320928",
     "exception": false,
     "start_time": "2024-10-05T15:06:56.305873",
     "status": "completed"
    },
    "tags": []
   },
   "outputs": [],
   "source": []
  }
 ],
 "metadata": {
  "kaggle": {
   "accelerator": "none",
   "dataSources": [
    {
     "datasetId": 2380415,
     "sourceId": 4016336,
     "sourceType": "datasetVersion"
    }
   ],
   "dockerImageVersionId": 30775,
   "isGpuEnabled": false,
   "isInternetEnabled": false,
   "language": "python",
   "sourceType": "notebook"
  },
  "kernelspec": {
   "display_name": "Python 3",
   "language": "python",
   "name": "python3"
  },
  "language_info": {
   "codemirror_mode": {
    "name": "ipython",
    "version": 3
   },
   "file_extension": ".py",
   "mimetype": "text/x-python",
   "name": "python",
   "nbconvert_exporter": "python",
   "pygments_lexer": "ipython3",
   "version": "3.10.14"
  },
  "papermill": {
   "default_parameters": {},
   "duration": 73.158495,
   "end_time": "2024-10-05T15:06:57.661752",
   "environment_variables": {},
   "exception": null,
   "input_path": "__notebook__.ipynb",
   "output_path": "__notebook__.ipynb",
   "parameters": {},
   "start_time": "2024-10-05T15:05:44.503257",
   "version": "2.6.0"
  }
 },
 "nbformat": 4,
 "nbformat_minor": 5
}
